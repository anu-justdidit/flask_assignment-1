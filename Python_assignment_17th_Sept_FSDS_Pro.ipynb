{
 "cells": [
  {
   "cell_type": "code",
   "execution_count": 88,
   "metadata": {},
   "outputs": [
    {
     "name": "stdout",
     "output_type": "stream",
     "text": [
      "1\n",
      "2\n",
      "3\n",
      "4\n",
      "5\n",
      "6\n",
      "7\n",
      "8\n",
      "9\n",
      "10\n"
     ]
    }
   ],
   "source": [
    "#1. Print numbers from 1 to 10 using a for loop:\n",
    "for i in range(1, 11):\n",
    "    print(i)\n"
   ]
  },
  {
   "cell_type": "markdown",
   "metadata": {},
   "source": [
    "Q2) Difference between a for loop and a while loop in Python\n",
    "\n",
    "\n",
    "\n",
    "Ans:2)  A for loop is typically used when you know the number of iterations beforehand, like iterating through a range or a collection. A while loop is used when the number of iterations is not known and depends on a condition. It continues until the condition becomes false."
   ]
  },
  {
   "cell_type": "code",
   "execution_count": 89,
   "metadata": {},
   "outputs": [
    {
     "name": "stdout",
     "output_type": "stream",
     "text": [
      "Sum: 5050\n"
     ]
    }
   ],
   "source": [
    "#3.Calculate the sum of all numbers from 1 to 100 using a for loop:\n",
    "sum_result = 0\n",
    "for i in range(1, 101):\n",
    "    sum_result += i\n",
    "print(\"Sum:\", sum_result)\n"
   ]
  },
  {
   "cell_type": "code",
   "execution_count": 90,
   "metadata": {},
   "outputs": [
    {
     "name": "stdout",
     "output_type": "stream",
     "text": [
      "1\n",
      "2\n",
      "3\n",
      "4\n",
      "5\n"
     ]
    }
   ],
   "source": [
    "#4. Iterate through a list using a for loop in Python:\n",
    "\n",
    "my_list = [1, 2, 3, 4, 5]\n",
    "for item in my_list:\n",
    "    print(item)\n"
   ]
  },
  {
   "cell_type": "code",
   "execution_count": 91,
   "metadata": {},
   "outputs": [
    {
     "name": "stdout",
     "output_type": "stream",
     "text": [
      "Product: 120\n"
     ]
    }
   ],
   "source": [
    "#5. Find the product of all elements in a list using a for loop:\n",
    "\n",
    "my_list = [2, 3, 4, 5]\n",
    "product = 1\n",
    "for num in my_list:\n",
    "    product *= num\n",
    "print(\"Product:\", product)\n"
   ]
  },
  {
   "cell_type": "code",
   "execution_count": 92,
   "metadata": {},
   "outputs": [
    {
     "name": "stdout",
     "output_type": "stream",
     "text": [
      "2\n",
      "4\n",
      "6\n",
      "8\n",
      "10\n",
      "12\n",
      "14\n",
      "16\n",
      "18\n",
      "20\n"
     ]
    }
   ],
   "source": [
    "#6. Print even numbers from 1 to 20 using a for loop:\n",
    "\n",
    "for i in range(2, 21, 2):\n",
    "    print(i)\n"
   ]
  },
  {
   "cell_type": "code",
   "execution_count": 93,
   "metadata": {},
   "outputs": [
    {
     "name": "stdout",
     "output_type": "stream",
     "text": [
      "Factorial: 120\n"
     ]
    }
   ],
   "source": [
    "#7. Calculate the factorial of a number using a for loop:\n",
    "\n",
    "num = 5\n",
    "factorial = 1\n",
    "for i in range(1, num + 1):\n",
    "    factorial *= i\n",
    "print(\"Factorial:\", factorial)\n"
   ]
  },
  {
   "cell_type": "code",
   "execution_count": 94,
   "metadata": {},
   "outputs": [
    {
     "name": "stdout",
     "output_type": "stream",
     "text": [
      "H\n",
      "e\n",
      "l\n",
      "l\n",
      "o\n"
     ]
    }
   ],
   "source": [
    "#8. Iterate through the characters of a string using a for loop in Python:\n",
    "    \n",
    "my_string = \"Hello\"\n",
    "for char in my_string:\n",
    "    print(char)\n"
   ]
  },
  {
   "cell_type": "code",
   "execution_count": 95,
   "metadata": {},
   "outputs": [
    {
     "name": "stdout",
     "output_type": "stream",
     "text": [
      "Largest number: 15\n"
     ]
    }
   ],
   "source": [
    "#9. Find the largest number in a list using a for loop:\n",
    "my_list = [4, 10, 3, 8, 15]\n",
    "max_num = my_list[0]\n",
    "for num in my_list:\n",
    "    if num > max_num:\n",
    "        max_num = num\n",
    "print(\"Largest number:\", max_num)\n"
   ]
  },
  {
   "cell_type": "code",
   "execution_count": 96,
   "metadata": {},
   "outputs": [
    {
     "name": "stdout",
     "output_type": "stream",
     "text": [
      "0\n",
      "1\n",
      "1\n",
      "2\n",
      "3\n",
      "5\n",
      "8\n",
      "13\n",
      "21\n",
      "34\n"
     ]
    }
   ],
   "source": [
    "#10. Print the Fibonacci sequence up to a specified limit using a for loop:\n",
    "\n",
    "\n",
    "limit = 10\n",
    "a, b = 0, 1\n",
    "for _ in range(limit):\n",
    "    print(a)\n",
    "    a, b = b, a + b\n"
   ]
  },
  {
   "cell_type": "code",
   "execution_count": 97,
   "metadata": {},
   "outputs": [
    {
     "name": "stdout",
     "output_type": "stream",
     "text": [
      "Number of vowels: 3\n"
     ]
    }
   ],
   "source": [
    "#11. Count the number of vowels in a given string using a for loop:\n",
    "\n",
    "\n",
    "def count_vowels(input_string):\n",
    "    vowels = \"aeiouAEIOU\"\n",
    "    count = 0\n",
    "    for char in input_string:\n",
    "        if char in vowels:\n",
    "            count += 1\n",
    "    return count\n",
    "\n",
    "input_str = \"Hello World\"\n",
    "result = count_vowels(input_str)\n",
    "print(\"Number of vowels:\", result)\n"
   ]
  },
  {
   "cell_type": "code",
   "execution_count": 98,
   "metadata": {},
   "outputs": [
    {
     "name": "stdout",
     "output_type": "stream",
     "text": [
      "5 * 1 = 5\n",
      "5 * 2 = 10\n",
      "5 * 3 = 15\n",
      "5 * 4 = 20\n",
      "5 * 5 = 25\n",
      "5 * 6 = 30\n",
      "5 * 7 = 35\n",
      "5 * 8 = 40\n",
      "5 * 9 = 45\n",
      "5 * 10 = 50\n"
     ]
    }
   ],
   "source": [
    "#12. Generate a multiplication table for a given number using a for loop:\n",
    "\n",
    "def multiplication_table(num):\n",
    "    for i in range(1, 11):\n",
    "        print(f\"{num} * {i} = {num * i}\")\n",
    "\n",
    "number = 5\n",
    "multiplication_table(number)\n"
   ]
  },
  {
   "cell_type": "code",
   "execution_count": 99,
   "metadata": {},
   "outputs": [
    {
     "name": "stdout",
     "output_type": "stream",
     "text": [
      "Reversed list: [5, 4, 3, 2, 1]\n"
     ]
    }
   ],
   "source": [
    "#13. Reverse a list using a for loop:\n",
    "\n",
    "def reverse_list(input_list):\n",
    "    reversed_list = []\n",
    "    for i in range(len(input_list) - 1, -1, -1):\n",
    "        reversed_list.append(input_list[i])\n",
    "    return reversed_list\n",
    "\n",
    "my_list = [1, 2, 3, 4, 5]\n",
    "reversed_result = reverse_list(my_list)\n",
    "print(\"Reversed list:\", reversed_result)\n"
   ]
  },
  {
   "cell_type": "code",
   "execution_count": 100,
   "metadata": {},
   "outputs": [
    {
     "name": "stdout",
     "output_type": "stream",
     "text": [
      "Common elements: [3, 4, 5]\n"
     ]
    }
   ],
   "source": [
    "#14. Find common elements between two lists using a for loop:\n",
    "\n",
    "def common_elements(list1, list2):\n",
    "    common = []\n",
    "    for item in list1:\n",
    "        if item in list2 and item not in common:\n",
    "            common.append(item)\n",
    "    return common\n",
    "\n",
    "list_1 = [1, 2, 3, 4, 5]\n",
    "list_2 = [3, 4, 5, 6, 7]\n",
    "common_elements_result = common_elements(list_1, list_2)\n",
    "print(\"Common elements:\", common_elements_result)\n",
    "\n"
   ]
  },
  {
   "cell_type": "code",
   "execution_count": 101,
   "metadata": {},
   "outputs": [
    {
     "name": "stdout",
     "output_type": "stream",
     "text": [
      "Key: a, Value: 1\n",
      "Key: b, Value: 2\n",
      "Key: c, Value: 3\n"
     ]
    }
   ],
   "source": [
    "#15. Iterate through keys and values of a dictionary using a for loop:\n",
    "\n",
    "\n",
    "my_dict = {'a': 1, 'b': 2, 'c': 3}\n",
    "for key, value in my_dict.items():\n",
    "    print(f\"Key: {key}, Value: {value}\")\n"
   ]
  },
  {
   "cell_type": "code",
   "execution_count": 102,
   "metadata": {},
   "outputs": [
    {
     "name": "stdout",
     "output_type": "stream",
     "text": [
      "GCD: 6\n"
     ]
    }
   ],
   "source": [
    "#16. Find the GCD of two numbers using a for loop:\n",
    "def gcd(a, b):\n",
    "    while b:\n",
    "        a, b = b, a % b\n",
    "    return a\n",
    "\n",
    "num1, num2 = 12, 18\n",
    "result_gcd = gcd(num1, num2)\n",
    "print(\"GCD:\", result_gcd)\n"
   ]
  },
  {
   "cell_type": "code",
   "execution_count": 103,
   "metadata": {},
   "outputs": [
    {
     "name": "stdout",
     "output_type": "stream",
     "text": [
      "The word is a palindrome.\n"
     ]
    }
   ],
   "source": [
    "#17. Check if a string is a palindrome using a for loop:\n",
    "def is_palindrome(input_str):\n",
    "    input_str = input_str.lower()\n",
    "    for i in range(len(input_str) // 2):\n",
    "        if input_str[i] != input_str[-i - 1]:\n",
    "            return False\n",
    "    return True\n",
    "\n",
    "word = \"madam\"\n",
    "result_palindrome = is_palindrome(word)\n",
    "if result_palindrome:\n",
    "    print(\"The word is a palindrome.\")\n",
    "else:\n",
    "    print(\"The word is not a palindrome.\")\n"
   ]
  },
  {
   "cell_type": "code",
   "execution_count": 104,
   "metadata": {},
   "outputs": [
    {
     "name": "stdout",
     "output_type": "stream",
     "text": [
      "List without duplicates: [1, 2, 3, 4, 5]\n"
     ]
    }
   ],
   "source": [
    "#18. Remove duplicates from a list using a for loop:\n",
    "def remove_duplicates(input_list):\n",
    "    unique_list = []\n",
    "    for item in input_list:\n",
    "        if item not in unique_list:\n",
    "            unique_list.append(item)\n",
    "    return unique_list\n",
    "\n",
    "my_list = [1, 2, 2, 3, 4, 4, 5]\n",
    "result_no_duplicates = remove_duplicates(my_list)\n",
    "print(\"List without duplicates:\", result_no_duplicates)\n"
   ]
  },
  {
   "cell_type": "code",
   "execution_count": 105,
   "metadata": {},
   "outputs": [
    {
     "name": "stdout",
     "output_type": "stream",
     "text": [
      "Number of words: 5\n"
     ]
    }
   ],
   "source": [
    "#19. Count the number of words in a sentence using a for loop:\n",
    "\n",
    "def count_words(sentence):\n",
    "    words = sentence.split()\n",
    "    return len(words)\n",
    "\n",
    "input_sentence = \"This is a sample sentence.\"\n",
    "word_count = count_words(input_sentence)\n",
    "print(\"Number of words:\", word_count)\n"
   ]
  },
  {
   "cell_type": "code",
   "execution_count": 106,
   "metadata": {},
   "outputs": [
    {
     "name": "stdout",
     "output_type": "stream",
     "text": [
      "Sum of odd numbers from 1 to 50: 625\n"
     ]
    }
   ],
   "source": [
    "#Find the sum of all odd numbers from 1 to 50 using a for loop:\n",
    "\n",
    "sum_odd = 0\n",
    "for num in range(1, 51, 2):\n",
    "    sum_odd += num\n",
    "\n",
    "print(\"Sum of odd numbers from 1 to 50:\", sum_odd)\n"
   ]
  },
  {
   "cell_type": "code",
   "execution_count": 107,
   "metadata": {},
   "outputs": [
    {
     "name": "stdout",
     "output_type": "stream",
     "text": [
      "2024 is a leap year.\n"
     ]
    }
   ],
   "source": [
    "#21. Check if a given year is a leap year using a for loop:\n",
    "\n",
    "def is_leap_year(year):\n",
    "    if year % 4 == 0 and (year % 100 != 0 or year % 400 == 0):\n",
    "        return True\n",
    "    else:\n",
    "        return False\n",
    "\n",
    "year_to_check = 2024\n",
    "result_leap_year = is_leap_year(year_to_check)\n",
    "if result_leap_year:\n",
    "    print(f\"{year_to_check} is a leap year.\")\n",
    "else:\n",
    "    print(f\"{year_to_check} is not a leap year.\")\n"
   ]
  },
  {
   "cell_type": "code",
   "execution_count": 108,
   "metadata": {},
   "outputs": [
    {
     "name": "stdout",
     "output_type": "stream",
     "text": [
      "Square root: 5.0\n"
     ]
    }
   ],
   "source": [
    "#22. Calculate the square root of a number using a for loop (approximation method):\n",
    "\n",
    "\n",
    "def sqrt_with_for_loop(num):\n",
    "    if num < 0:\n",
    "        return \"Invalid input: Enter a non-negative number.\"\n",
    "    \n",
    "    guess = num / 2\n",
    "    for _ in range(10):  # Adjust the number of iterations for more accuracy\n",
    "        guess = (guess + num / guess) / 2\n",
    "    return guess\n",
    "\n",
    "number_to_find_sqrt = 25\n",
    "result_sqrt = sqrt_with_for_loop(number_to_find_sqrt)\n",
    "print(\"Square root:\", result_sqrt)\n"
   ]
  },
  {
   "cell_type": "code",
   "execution_count": 109,
   "metadata": {},
   "outputs": [
    {
     "name": "stdout",
     "output_type": "stream",
     "text": [
      "LCM: 36\n"
     ]
    }
   ],
   "source": [
    "#23. Calculate the Least Common Multiple (LCM) of two numbers using a for loop:\n",
    "\n",
    "def lcm(a, b):\n",
    "    for i in range(1, a * b + 1):\n",
    "        if i % a == 0 and i % b == 0:\n",
    "            return i\n",
    "\n",
    "num1, num2 = 12, 18\n",
    "result_lcm = lcm(num1, num2)\n",
    "print(\"LCM:\", result_lcm)\n"
   ]
  },
  {
   "cell_type": "code",
   "execution_count": 110,
   "metadata": {},
   "outputs": [
    {
     "name": "stdout",
     "output_type": "stream",
     "text": [
      "The number is positive.\n"
     ]
    }
   ],
   "source": [
    "#1. Check if a number is positive, negative, or zero using an if-else statement:\n",
    "\n",
    "num = float(input(\"Enter a number: \"))\n",
    "if num > 0:\n",
    "    print(\"The number is positive.\")\n",
    "elif num == 0:\n",
    "    print(\"The number is zero.\")\n",
    "else:\n",
    "    print(\"The number is negative.\")\n"
   ]
  },
  {
   "cell_type": "code",
   "execution_count": 111,
   "metadata": {},
   "outputs": [
    {
     "name": "stdout",
     "output_type": "stream",
     "text": [
      "The number is even.\n"
     ]
    }
   ],
   "source": [
    "#2. Check if a given number is even or odd using an if-else statement:\n",
    "\n",
    "num = int(input(\"Enter a number: \"))\n",
    "if num % 2 == 0:\n",
    "    print(\"The number is even.\")\n",
    "else:\n",
    "    print(\"The number is odd.\")\n",
    "\n"
   ]
  },
  {
   "cell_type": "markdown",
   "metadata": {},
   "source": [
    "Q-3)  How can you use nested if-else statements in Python, and provide an example?\n",
    "\n",
    "\n",
    "Ans-3) Nested if else statements are used to execute different piece of code when we have more than two options to handle. It will check each condition sequentially and once the condition succeeds it goes to the corresponding block.\n",
    "\n",
    "If none of them are true, then else code part will take place.\n",
    "\n",
    "# Example of nested if-else to determine a person's age group\n",
    "age = int(input(\"Enter your age: \"))\n",
    "if age < 18:\n",
    "    print(\"You are a minor.\")\n",
    "else:\n",
    "    if age < 60:\n",
    "        print(\"You are an adult.\")\n",
    "    else:\n",
    "        print(\"You are a senior citizen.\")\n"
   ]
  },
  {
   "cell_type": "code",
   "execution_count": 112,
   "metadata": {},
   "outputs": [
    {
     "name": "stdout",
     "output_type": "stream",
     "text": [
      "The largest number is: 20\n"
     ]
    }
   ],
   "source": [
    "#4. Determine the largest of three numbers using if-else:\n",
    "\n",
    "a, b, c = 10, 20, 5\n",
    "if a >= b and a >= c:\n",
    "    largest = a\n",
    "elif b >= a and b >= c:\n",
    "    largest = b\n",
    "else:\n",
    "    largest = c\n",
    "print(\"The largest number is:\", largest)\n"
   ]
  },
  {
   "cell_type": "code",
   "execution_count": 113,
   "metadata": {},
   "outputs": [],
   "source": [
    "#5. Calculate the absolute value of a number using if-else:\n",
    "\n",
    "num = float(input(\"Enter a number: \"))\n",
    "if num >= 0:\n",
    "    print(\"The absolute value of the number is:\", num)\n",
    "else:\n",
    "    print(\"The absolute value of the number is:\", -num)\n"
   ]
  },
  {
   "cell_type": "code",
   "execution_count": null,
   "metadata": {},
   "outputs": [
    {
     "name": "stdout",
     "output_type": "stream",
     "text": [
      "The character is a consonant.\n"
     ]
    }
   ],
   "source": [
    "#6. Check if a given character is a vowel or consonant using if-else:\n",
    "\n",
    "char = input(\"Enter a character: \")\n",
    "if char.lower() in 'aeiou':\n",
    "    print(\"The character is a vowel.\")\n",
    "else:\n",
    "    print(\"The character is a consonant.\")\n"
   ]
  },
  {
   "cell_type": "code",
   "execution_count": null,
   "metadata": {},
   "outputs": [
    {
     "name": "stdout",
     "output_type": "stream",
     "text": [
      "You are eligible to vote.\n"
     ]
    }
   ],
   "source": [
    "#7. Determine if a user is eligible to vote based on their age using if-else:\n",
    "\n",
    "\n",
    "age = int(input(\"Enter your age: \"))\n",
    "if age >= 18:\n",
    "    print(\"You are eligible to vote.\")\n",
    "else:\n",
    "    print(\"You are not eligible to vote yet.\")\n"
   ]
  },
  {
   "cell_type": "code",
   "execution_count": null,
   "metadata": {},
   "outputs": [
    {
     "name": "stdout",
     "output_type": "stream",
     "text": [
      "Discount amount: 430.0\n"
     ]
    }
   ],
   "source": [
    "#8. Calculate the discount amount based on the purchase amount using if-else:\n",
    "\n",
    "purchase_amount = float(input(\"Enter the purchase amount: \"))\n",
    "if purchase_amount > 100:\n",
    "    discount = 0.1 * purchase_amount\n",
    "else:\n",
    "    discount = 0\n",
    "print(\"Discount amount:\", discount)\n",
    "\n"
   ]
  },
  {
   "cell_type": "code",
   "execution_count": null,
   "metadata": {},
   "outputs": [
    {
     "name": "stdout",
     "output_type": "stream",
     "text": [
      "The number is within the specified range.\n"
     ]
    }
   ],
   "source": [
    "#9. Check if a number is within a specified range using if-else:\n",
    "\n",
    "\n",
    "num = int(input(\"Enter a number: \"))\n",
    "if 10 <= num <= 50:\n",
    "    print(\"The number is within the specified range.\")\n",
    "else:\n",
    "    print(\"The number is not within the specified range.\")\n"
   ]
  },
  {
   "cell_type": "code",
   "execution_count": null,
   "metadata": {},
   "outputs": [
    {
     "name": "stdout",
     "output_type": "stream",
     "text": [
      "The student's grade is: C\n"
     ]
    }
   ],
   "source": [
    "#10. Determine the grade of a student based on their score using if-else:\n",
    "\n",
    "score = int(input(\"Enter the student's score: \"))\n",
    "if score >= 90:\n",
    "    grade = 'A'\n",
    "elif score >= 80:\n",
    "    grade = 'B'\n",
    "elif score >= 70:\n",
    "    grade = 'C'\n",
    "elif score >= 60:\n",
    "    grade = 'D'\n",
    "else:\n",
    "    grade = 'F'\n",
    "print(\"The student's grade is:\", grade)\n"
   ]
  },
  {
   "cell_type": "code",
   "execution_count": null,
   "metadata": {},
   "outputs": [
    {
     "name": "stdout",
     "output_type": "stream",
     "text": [
      "The string is not empty.\n"
     ]
    }
   ],
   "source": [
    "#11. Check if a string is empty or not using if-else:\n",
    "\n",
    "string = input(\"Enter a string: \")\n",
    "if string:\n",
    "    print(\"The string is not empty.\")\n",
    "else:\n",
    "    print(\"The string is empty.\")\n"
   ]
  },
  {
   "cell_type": "code",
   "execution_count": null,
   "metadata": {},
   "outputs": [
    {
     "name": "stdout",
     "output_type": "stream",
     "text": [
      "Isosceles triangle\n"
     ]
    }
   ],
   "source": [
    "#12. Identify the type of a triangle based on input values using if-else:\n",
    "\n",
    "side1 = int(input(\"Enter length of side 1: \"))\n",
    "side2 = int(input(\"Enter length of side 2: \"))\n",
    "side3 = int(input(\"Enter length of side 3: \"))\n",
    "\n",
    "if side1 == side2 == side3:\n",
    "    print(\"Equilateral triangle\")\n",
    "elif side1 == side2 or side2 == side3 or side3 == side1:\n",
    "    print(\"Isosceles triangle\")\n",
    "else:\n",
    "    print(\"Scalene triangle\")\n"
   ]
  },
  {
   "cell_type": "code",
   "execution_count": null,
   "metadata": {},
   "outputs": [
    {
     "name": "stdout",
     "output_type": "stream",
     "text": [
      "Wednesday\n"
     ]
    }
   ],
   "source": [
    "#13. Determine the day of the week based on a user-provided number using if-else:\n",
    "\n",
    "day_number = int(input(\"Enter a day number (1-7): \"))\n",
    "if day_number == 1:\n",
    "    print(\"Monday\")\n",
    "elif day_number == 2:\n",
    "    print(\"Tuesday\")\n",
    "elif day_number == 3:\n",
    "    print(\"Wednesday\")\n",
    "elif day_number == 4:\n",
    "    print(\"Thursday\")\n",
    "elif day_number == 5:\n",
    "    print(\"Friday\")\n",
    "elif day_number == 6:\n",
    "    print(\"Saturday\")\n",
    "elif day_number == 7:\n",
    "    print(\"Sunday\")\n",
    "else:\n",
    "    print(\"Invalid input.\")\n"
   ]
  },
  {
   "cell_type": "code",
   "execution_count": null,
   "metadata": {},
   "outputs": [
    {
     "name": "stdout",
     "output_type": "stream",
     "text": [
      "Not a leap year\n"
     ]
    }
   ],
   "source": [
    "#14. Check if a given year is a leap year using both if-else and a function:\n",
    "\n",
    "def is_leap_year(year):\n",
    "    if (year % 4 == 0 and year % 100 != 0) or (year % 400 == 0):\n",
    "        return True\n",
    "    else:\n",
    "        return False\n",
    "\n",
    "year = int(input(\"Enter a year: \"))\n",
    "if is_leap_year(year):\n",
    "    print(\"Leap year\")\n",
    "else:\n",
    "    print(\"Not a leap year\")\n"
   ]
  },
  {
   "cell_type": "markdown",
   "metadata": {},
   "source": [
    "Q-15) How do you use the \"assert\" statement in Python to add debugging checks within if-else blocks?\n",
    "\n",
    "Ans-15)  "
   ]
  },
  {
   "cell_type": "code",
   "execution_count": null,
   "metadata": {},
   "outputs": [
    {
     "name": "stdout",
     "output_type": "stream",
     "text": [
      "Eligible for senior citizen discount\n"
     ]
    }
   ],
   "source": [
    "#16.  Create a Python program that determines the eligibility of a person for a senior citizen discount based on age using if-else.\n",
    "\n",
    "age = int(input(\"Enter age: \"))\n",
    "if age >= 60:\n",
    "    print(\"Eligible for senior citizen discount\")\n",
    "else:\n",
    "    print(\"Not eligible for senior citizen discount\")\n"
   ]
  },
  {
   "cell_type": "code",
   "execution_count": null,
   "metadata": {},
   "outputs": [
    {
     "name": "stdout",
     "output_type": "stream",
     "text": [
      "Lowercase character\n"
     ]
    }
   ],
   "source": [
    "#17. Python program to categorize a character as uppercase, lowercase, or neither using if-else:\n",
    "\n",
    "char = input(\"Enter a character: \")\n",
    "if char.isupper():\n",
    "    print(\"Uppercase character\")\n",
    "elif char.islower():\n",
    "    print(\"Lowercase character\")\n",
    "else:\n",
    "    print(\"Neither uppercase nor lowercase character\")\n"
   ]
  },
  {
   "cell_type": "code",
   "execution_count": 2,
   "metadata": {},
   "outputs": [
    {
     "name": "stdout",
     "output_type": "stream",
     "text": [
      "Roots are complex: -0.375+1.0532687216470449i and -0.375-1.0532687216470449i\n"
     ]
    }
   ],
   "source": [
    "#18. Python program to determine the roots of a quadratic equation using if-else:\n",
    "\n",
    "import math\n",
    "\n",
    "a = int(input(\"Enter coefficient a: \"))\n",
    "b = int(input(\"Enter coefficient b: \"))\n",
    "c = int(input(\"Enter coefficient c: \"))\n",
    "\n",
    "delta = b**2 - 4*a*c\n",
    "\n",
    "if delta > 0:\n",
    "    root1 = (-b + math.sqrt(delta)) / (2*a)\n",
    "    root2 = (-b - math.sqrt(delta)) / (2*a)\n",
    "    print(f\"Roots are real and distinct: {root1} and {root2}\")\n",
    "elif delta == 0:\n",
    "    root = -b / (2*a)\n",
    "    print(f\"Roots are real and equal: {root}\")\n",
    "else:\n",
    "    real_part = -b / (2*a)\n",
    "    imag_part = math.sqrt(abs(delta)) / (2*a)\n",
    "    print(f\"Roots are complex: {real_part}+{imag_part}i and {real_part}-{imag_part}i\")\n"
   ]
  },
  {
   "cell_type": "code",
   "execution_count": 3,
   "metadata": {},
   "outputs": [
    {
     "name": "stdout",
     "output_type": "stream",
     "text": [
      "Not a century year\n"
     ]
    }
   ],
   "source": [
    "#19. Python program to check if a given year is a century year or not using if-else:\n",
    "\n",
    "year = int(input(\"Enter a year: \"))\n",
    "if year % 100 == 0:\n",
    "    print(\"Century year\")\n",
    "else:\n",
    "    print(\"Not a century year\")\n"
   ]
  },
  {
   "cell_type": "code",
   "execution_count": 4,
   "metadata": {},
   "outputs": [
    {
     "name": "stdout",
     "output_type": "stream",
     "text": [
      "Not a perfect square\n"
     ]
    }
   ],
   "source": [
    "#20. Python program to determine if a given number is a perfect square using if-else:\n",
    "\n",
    "number = int(input(\"Enter a number: \"))\n",
    "sqrt = number ** 0.5\n",
    "if int(sqrt) == sqrt:\n",
    "    print(\"Perfect square\")\n",
    "else:\n",
    "    print(\"Not a perfect square\")\n"
   ]
  },
  {
   "cell_type": "markdown",
   "metadata": {},
   "source": [
    "Q-21). Explain the purpose of the \"continue\" and \"break\" statements within if-else loops.\n",
    "\n",
    "\n",
    "Ans-21) Purpose of \"continue\" and \"break\" statements within if-else loops :\n",
    "continue: Skips the rest of the current iteration of a loop and moves to the next iteration.\n",
    "break: Terminates the loop immediately when a certain condition is met, regardless of the loop condition.\n",
    "\n",
    "for i in range(10):\n",
    "    if i == 5:\n",
    "        continue  # Skips printing 5 and moves to the next iteration\n",
    "    print(i)\n",
    "    if i == 7:\n",
    "        break  # Stops the loop at 7\n"
   ]
  },
  {
   "cell_type": "code",
   "execution_count": 5,
   "metadata": {},
   "outputs": [
    {
     "name": "stdout",
     "output_type": "stream",
     "text": [
      "Underweight\n"
     ]
    }
   ],
   "source": [
    "#22. Python program to calculate BMI based on weight and height using if-else:\n",
    "\n",
    "weight = float(input(\"Enter weight in kg: \"))\n",
    "height = float(input(\"Enter height in meters: \"))\n",
    "\n",
    "bmi = weight / (height ** 2)\n",
    "\n",
    "if bmi < 18.5:\n",
    "    print(\"Underweight\")\n",
    "elif 18.5 <= bmi < 24.9:\n",
    "    print(\"Normal weight\")\n",
    "elif 25 <= bmi < 29.9:\n",
    "    print(\"Overweight\")\n",
    "else:\n",
    "    print(\"Obese\")\n"
   ]
  },
  {
   "cell_type": "markdown",
   "metadata": {},
   "source": [
    "Q-23) How can you use the \"filter()\" function with if-else statements to filter elements from a list?\n",
    "\n",
    "Ans-23) We can use filter() with a lambda function and an if-else condition to filter elements from a list based on a condition.\n",
    "\n",
    "\n",
    "nums = [1, 2, 3, 4, 5, 6, 7, 8, 9, 10]\n",
    "filtered = list(filter(lambda x: x % 2 == 0, nums))  # Filters even numbers\n",
    "print(filtered)"
   ]
  },
  {
   "cell_type": "code",
   "execution_count": 6,
   "metadata": {},
   "outputs": [
    {
     "name": "stdout",
     "output_type": "stream",
     "text": [
      "Not Prime\n"
     ]
    }
   ],
   "source": [
    "#24. Python program to determine if a given number is prime or not using if-else:\n",
    "\n",
    "num = int(input(\"Enter a number: \"))\n",
    "is_prime = True\n",
    "\n",
    "if num <= 1:\n",
    "    is_prime = False\n",
    "else:\n",
    "    for i in range(2, int(num**0.5) + 1):\n",
    "        if num % i == 0:\n",
    "            is_prime = False\n",
    "            break\n",
    "\n",
    "if is_prime:\n",
    "    print(\"Prime\")\n",
    "else:\n",
    "    print(\"Not Prime\")\n"
   ]
  },
  {
   "cell_type": "markdown",
   "metadata": {},
   "source": [
    "Q-1.)Explain the purpose of the `map()` function in Python and provide an example of how it can be used to apply a function to each element of an iterable.\n",
    "\n",
    "\n",
    "Ans-1) Purpose: map() applies a specified function to each item in an iterable and returns an iterator containing the results.\n",
    "\n",
    "\n",
    "# Doubling each element in a list using map\n",
    "nums = [1, 2, 3, 4, 5]\n",
    "doubled = list(map(lambda x: x * 2, nums))\n",
    "print(doubled)  # Output: [2, 4, 6, 8, 10]\n"
   ]
  },
  {
   "cell_type": "code",
   "execution_count": 7,
   "metadata": {},
   "outputs": [
    {
     "name": "stdout",
     "output_type": "stream",
     "text": [
      "[4, 9, 16, 25]\n"
     ]
    }
   ],
   "source": [
    "#2. Write a Python program that uses the `map()` function to square each element of a list of numbers.\n",
    "\n",
    "# Squaring each element in a list using map\n",
    "nums = [2, 3, 4, 5]\n",
    "squared = list(map(lambda x: x**2, nums))\n",
    "print(squared)  # Output: [4, 9, 16, 25]\n"
   ]
  },
  {
   "cell_type": "markdown",
   "metadata": {},
   "source": [
    "Q3.) How does the `map()` function differ from a list comprehension in Python, and when would you choose one over the other?\n",
    "\n",
    "\n",
    "Ans3) map() applies a function to each element of an iterable, returning an iterator. List comprehension constructs a new list by applying an expression to each item.\n",
    "Choice: Use map() when applying a simple operation/function to elements; use list comprehension for more complex operations or when creating a new list"
   ]
  },
  {
   "cell_type": "code",
   "execution_count": 8,
   "metadata": {},
   "outputs": [
    {
     "name": "stdout",
     "output_type": "stream",
     "text": [
      "['ALICE', 'BOB', 'CHARLIE']\n"
     ]
    }
   ],
   "source": [
    "#4 Create a Python program that uses the `map()` function to convert a list of names to uppercase.\n",
    "\n",
    "# Converting names to uppercase using map\n",
    "names = ['Alice', 'Bob', 'Charlie']\n",
    "upper_names = list(map(str.upper, names))\n",
    "print(upper_names)  # Output: ['ALICE', 'BOB', 'CHARLIE']\n"
   ]
  },
  {
   "cell_type": "code",
   "execution_count": 9,
   "metadata": {},
   "outputs": [
    {
     "name": "stdout",
     "output_type": "stream",
     "text": [
      "[5, 6, 6]\n"
     ]
    }
   ],
   "source": [
    "#5. Write a Python program that uses the `map()` function to calculate the length of each word in a list of strings.\n",
    "\n",
    "# Calculating lengths of words in a list using map\n",
    "words = ['apple', 'banana', 'orange']\n",
    "lengths = list(map(len, words))\n",
    "print(lengths)  # Output: [5, 6, 6]\n",
    "\n"
   ]
  },
  {
   "cell_type": "markdown",
   "metadata": {},
   "source": [
    "Q6). How can you use the `map()` function to apply a custom function to elements of multiple lists simultaneously in Python?\n",
    "\n",
    "Ans-6)You can use map() in combination with zip() to apply a function to elements from multiple lists. Here's an example:"
   ]
  },
  {
   "cell_type": "code",
   "execution_count": 10,
   "metadata": {},
   "outputs": [
    {
     "name": "stdout",
     "output_type": "stream",
     "text": [
      "[32.0, 50.0, 68.0, 86.0]\n"
     ]
    }
   ],
   "source": [
    "#7. Create a Python program that uses `map()` to convert a list of temperatures from Celsius to Fahrenheit.\n",
    "\n",
    "# Converting Celsius to Fahrenheit using map\n",
    "temps_celsius = [0, 10, 20, 30]\n",
    "temps_fahrenheit = list(map(lambda c: (c * 9/5) + 32, temps_celsius))\n",
    "print(temps_fahrenheit)  # Output: [32.0, 50.0, 68.0, 86.0]\n"
   ]
  },
  {
   "cell_type": "code",
   "execution_count": 11,
   "metadata": {},
   "outputs": [
    {
     "name": "stdout",
     "output_type": "stream",
     "text": [
      "[3, 2, 3]\n"
     ]
    }
   ],
   "source": [
    "#8. Write a Python program that uses the `map()` function to round each element of a list of floating-point numbers to the nearest integer.\n",
    "\n",
    "# Rounding floating-point numbers using map\n",
    "float_nums = [3.14, 1.5, 2.7]\n",
    "rounded = list(map(round, float_nums))\n",
    "print(rounded)  # Output: [3, 2, 3]\n"
   ]
  },
  {
   "cell_type": "markdown",
   "metadata": {},
   "source": [
    "Q-1) 1.What is the `reduce()` function in Python, and what module should you import to use it? Provide an example of its basic usage.\n",
    "\n",
    "Ans-1) The reduce() function is part of the functools module in Python. It's used to apply a function to the elements of an iterable, reducing them to a single output. To use it, you need to import it from the functools module.\n",
    "\n",
    "Here's how you might utilize the reduce() function in various scenarios:\n",
    "\n",
    "from functools import reduce\n",
    "\n",
    "# Example: Finding the sum of elements in a list using reduce\n",
    "nums = [1, 2, 3, 4, 5]\n",
    "result = reduce(lambda x, y: x + y, nums)\n",
    "print(result) \n",
    "\n",
    " # Output: 15 (1 + 2 + 3 + 4 + 5 = 15)\n"
   ]
  },
  {
   "cell_type": "code",
   "execution_count": 12,
   "metadata": {},
   "outputs": [
    {
     "name": "stdout",
     "output_type": "stream",
     "text": [
      "120\n"
     ]
    }
   ],
   "source": [
    "# 2. Write a Python program that uses the `reduce()` function to find the product of all elements in a list.\n",
    "\n",
    "from functools import reduce\n",
    "\n",
    "# Finding the product of elements in a list using reduce\n",
    "nums = [2, 3, 4, 5]\n",
    "product = reduce(lambda x, y: x * y, nums)\n",
    "print(product)  # Output: 120 (2 * 3 * 4 * 5 = 120)\n",
    "\n"
   ]
  },
  {
   "cell_type": "code",
   "execution_count": 13,
   "metadata": {},
   "outputs": [
    {
     "name": "stdout",
     "output_type": "stream",
     "text": [
      "42\n"
     ]
    }
   ],
   "source": [
    "#3. Create a Python program that uses `reduce()` to find the maximum element in a list of numbers.\n",
    "\n",
    "from functools import reduce\n",
    "\n",
    "# Finding the maximum element in a list using reduce\n",
    "nums = [13, 7, 21, 42, 10]\n",
    "max_num = reduce(lambda x, y: x if x > y else y, nums)\n",
    "print(max_num)  # Output: 42\n"
   ]
  },
  {
   "cell_type": "markdown",
   "metadata": {},
   "source": [
    "Q-4)  How can you use the `reduce()` function to concatenate a list of strings into a single string?\n",
    "\n",
    "\n",
    "Ans:4) Concatenating a list of strings into a single string using reduce():\n",
    "from functools import reduce\n",
    "\n",
    "# Concatenating strings in a list into a single string using reduce\n",
    "strings = ['Hello', ' ', 'world', '!']\n",
    "concatenated = reduce(lambda x, y: x + y, strings)\n",
    "print(concatenated)  \n",
    "\n",
    "# Output: 'Hello world!'\n"
   ]
  },
  {
   "cell_type": "code",
   "execution_count": 14,
   "metadata": {},
   "outputs": [
    {
     "name": "stdout",
     "output_type": "stream",
     "text": [
      "120\n"
     ]
    }
   ],
   "source": [
    "#5. Write a Python program that calculates the factorial of a number using the `reduce()` function.\n",
    "\n",
    "from functools import reduce\n",
    "\n",
    "# Calculating factorial using reduce\n",
    "n = 5\n",
    "factorial = reduce(lambda x, y: x * y, range(1, n + 1))\n",
    "print(factorial)  # Output: 120 (5! = 5 * 4 * 3 * 2 * 1 = 120)\n"
   ]
  },
  {
   "cell_type": "code",
   "execution_count": 15,
   "metadata": {},
   "outputs": [
    {
     "name": "stdout",
     "output_type": "stream",
     "text": [
      "12\n"
     ]
    }
   ],
   "source": [
    "#6. Create a Python program that uses `reduce()` to find the GCD (Greatest Common Divisor) of a list of numbers.\n",
    "\n",
    "from functools import reduce\n",
    "import math  # Importing math module to use gcd function\n",
    "\n",
    "# Finding GCD of elements in a list using reduce and math.gcd\n",
    "nums = [24, 36, 48]\n",
    "gcd = reduce(math.gcd, nums)\n",
    "print(gcd)  # Output: 12\n"
   ]
  },
  {
   "cell_type": "code",
   "execution_count": 16,
   "metadata": {},
   "outputs": [
    {
     "name": "stdout",
     "output_type": "stream",
     "text": [
      "15\n"
     ]
    }
   ],
   "source": [
    "# 7.Write a Python program that uses the `reduce()` function to find the sum of the digits of a given number.\n",
    "\n",
    "from functools import reduce\n",
    "\n",
    "# Finding sum of digits using reduce\n",
    "num = 12345\n",
    "sum_of_digits = reduce(lambda x, y: int(x) + int(y), str(num))\n",
    "print(sum_of_digits)  # Output: 15 (1 + 2 + 3 + 4 + 5 = 15)\n"
   ]
  },
  {
   "cell_type": "markdown",
   "metadata": {},
   "source": [
    "Q1) 1.Explain the purpose of the `filter()` function in Python and provide an example of how it can be used to filter elements from an iterable.\n",
    "\n",
    "Ans-1) The filter() function in Python is used to create an iterator by filtering elements from an iterable (like a list) based on a given function's condition. It takes two parameters: the filtering function and the iterable.\n",
    "\n",
    " Basic usage of filter():\n",
    "\n",
    " # Example: Filtering even numbers from a list using filter\n",
    "nums = [1, 2, 3, 4, 5, 6, 7, 8, 9, 10]\n",
    "even_nums = list(filter(lambda x: x % 2 == 0, nums))\n",
    "print(even_nums) \n",
    "\n",
    " # Output: [2, 4, 6, 8, 10]\n"
   ]
  },
  {
   "cell_type": "code",
   "execution_count": 17,
   "metadata": {},
   "outputs": [
    {
     "name": "stdout",
     "output_type": "stream",
     "text": [
      "['John', 'Jane', 'Jack']\n"
     ]
    }
   ],
   "source": [
    "#2. Write a Python program that uses the `filter()` function to select even numbers from a list of integers.\n",
    "\n",
    "# Filtering names that start with 'J' from a list\n",
    "names = ['John', 'Jane', 'Jack', 'Alice', 'Bob']\n",
    "filtered_names = list(filter(lambda name: name.startswith('J'), names))\n",
    "print(filtered_names)  # Output: ['John', 'Jane', 'Jack']\n"
   ]
  },
  {
   "cell_type": "code",
   "execution_count": 18,
   "metadata": {},
   "outputs": [
    {
     "name": "stdout",
     "output_type": "stream",
     "text": [
      "[2, 3, 5, 7, 11]\n"
     ]
    }
   ],
   "source": [
    "#3. Create a Python program that uses the `filter()` function to select names that start with a specific letter from a list of strings.\n",
    "\n",
    "# Filtering prime numbers from a list\n",
    "def is_prime(n):\n",
    "    if n <= 1:\n",
    "        return False\n",
    "    for i in range(2, int(n**0.5) + 1):\n",
    "        if n % i == 0:\n",
    "            return False\n",
    "    return True\n",
    "\n",
    "numbers = [2, 3, 4, 5, 6, 7, 8, 9, 10, 11]\n",
    "prime_numbers = list(filter(is_prime, numbers))\n",
    "print(prime_numbers)  # Output: [2, 3, 5, 7, 11]\n",
    "\n"
   ]
  },
  {
   "cell_type": "code",
   "execution_count": 19,
   "metadata": {},
   "outputs": [
    {
     "name": "stdout",
     "output_type": "stream",
     "text": [
      "[10, 25, 15, 30]\n"
     ]
    }
   ],
   "source": [
    "#4. Write a Python program that uses the `filter()` function to select prime numbers from a list of integers.\n",
    "\n",
    "# Removing None values from a list\n",
    "data = [10, None, 25, 15, None, 30, None]\n",
    "filtered_data = list(filter(lambda x: x is not None, data))\n",
    "print(filtered_data)  # Output: [10, 25, 15, 30]\n"
   ]
  },
  {
   "cell_type": "markdown",
   "metadata": {},
   "source": [
    "Q-5)  How can you use the `filter()` function to remove None values from a list in Python?\n",
    "\n",
    "Ans-5) Selecting words longer than a certain length:\n",
    "\n",
    " # Selecting words longer than 5 characters from a list\n",
    "words = ['apple', 'banana', 'grape', 'orange', 'kiwi', 'melon']\n",
    "filtered_words = list(filter(lambda word: len(word) > 5, words))\n",
    "print(filtered_words)  \n",
    "\n",
    "# Output: ['banana', 'orange']\n",
    "\n",
    "\n"
   ]
  },
  {
   "cell_type": "markdown",
   "metadata": {},
   "source": [
    "#Q6). Create a Python program that uses `filter()` to select words longer than a certain length from a list of strings.\n",
    "\n",
    "Ans)The filter() function provides a concise way to filter elements from an iterable based on a specified condition or criterion, producing a new iterable containing only the elements that satisfy the given condition.\n",
    "\n",
    "# Filtering elements greater than 50 from a list\n",
    "values = [20, 45, 60, 30, 80, 100]\n",
    "filtered_values = list(filter(lambda x: x > 50, values))\n",
    "print(filtered_values)  \n",
    "\n",
    "# Output: [60, 80, 100]\n"
   ]
  },
  {
   "cell_type": "markdown",
   "metadata": {},
   "source": [
    "#Q7.) Write a Python program that uses the `filter()` function to select elements greater than a specified threshold from a list of values.\n",
    "\n",
    "\n",
    "Ans-7) filter_greater_than_threshold is a function that takes a threshold and a list of values as parameters.\n",
    "Inside the function, the filter() function is used with a lambda function to filter elements greater than the specified threshold from the input list.\n",
    "The filtered values are collected in a list and returned.\n",
    "Example usage demonstrates filtering values greater than the given threshold (50) from the list [20, 45, 60, 30, 80, 100].\n",
    "This program filters and displays the values greater than the specified threshold. Adjust the threshold and data variables as needed to see different filtered results.\n",
    "\n",
    "\n",
    "def filter_greater_than_threshold(threshold, values):\n",
    "    # Using filter to select elements greater than the threshold\n",
    "    filtered_values = list(filter(lambda x: x > threshold, values))\n",
    "    return filtered_values\n",
    "\n",
    "# Example usage:\n",
    "threshold = 50\n",
    "data = [20, 45, 60, 30, 80, 100]\n",
    "\n",
    "result = filter_greater_than_threshold(threshold, data)\n",
    "print(f\"Values greater than {threshold}: {result}\")\n"
   ]
  },
  {
   "cell_type": "markdown",
   "metadata": {},
   "source": [
    "#Q-1) 1. Explain the concept of recursion in Python. How does it differ from iteration?\n",
    "\n",
    "A-1) Recursion in Python vs Iteration\n",
    "Recursion is a programming technique where a function calls itself to solve smaller instances of a problem. It involves breaking down a problem into smaller, similar subproblems until a base case is reached. In contrast, iteration involves using loops (like for or while) to repeatedly execute a set of instructions until a condition is met."
   ]
  },
  {
   "cell_type": "code",
   "execution_count": 20,
   "metadata": {},
   "outputs": [
    {
     "name": "stdout",
     "output_type": "stream",
     "text": [
      "The factorial of 5 is: 120\n"
     ]
    }
   ],
   "source": [
    "#2. Write a Python program to calculate the factorial of a number using recursion.\n",
    "\n",
    "def factorial(n):\n",
    "    if n == 0 or n == 1:\n",
    "        return 1\n",
    "    else:\n",
    "        return n * factorial(n - 1)\n",
    "\n",
    "# Example usage:\n",
    "number = 5\n",
    "result = factorial(number)\n",
    "print(f\"The factorial of {number} is: {result}\")\n"
   ]
  },
  {
   "cell_type": "code",
   "execution_count": 21,
   "metadata": {},
   "outputs": [
    {
     "name": "stdout",
     "output_type": "stream",
     "text": [
      "The 6th Fibonacci number is: 8\n"
     ]
    }
   ],
   "source": [
    "#3. Create a recursive Python function to find the nth Fibonacci number.\n",
    "\n",
    "\n",
    "def fibonacci(n):\n",
    "    if n <= 1:\n",
    "        return n\n",
    "    else:\n",
    "        return fibonacci(n - 1) + fibonacci(n - 2)\n",
    "\n",
    "# Example usage:\n",
    "position = 6\n",
    "result = fibonacci(position)\n",
    "print(f\"The {position}th Fibonacci number is: {result}\")\n"
   ]
  },
  {
   "cell_type": "code",
   "execution_count": 28,
   "metadata": {},
   "outputs": [
    {
     "name": "stdout",
     "output_type": "stream",
     "text": [
      "The sum of elements is: 15\n"
     ]
    }
   ],
   "source": [
    "#4. Write a recursive Python function to calculate the sum of all elements in a list.\n",
    "\n",
    "def list_sum(arr):\n",
    "    if len(arr) == 0:\n",
    "        return 0\n",
    "    else:\n",
    "        return arr[0] + list_sum(arr[1:])\n",
    "\n",
    "# Example usage:\n",
    "numbers = [1, 2, 3, 4, 5]\n",
    "result = list_sum(numbers)\n",
    "print(f\"The sum of elements is: {result}\")\n"
   ]
  },
  {
   "cell_type": "markdown",
   "metadata": {},
   "source": [
    "Q-5)  How can you prevent a recursive function from running indefinitely, causing a stack overflow error?\n",
    "\n",
    "Ans-5)  To prevent infinite recursion, you must ensure your recursive function reaches a base case where the function stops calling itself. This ensures the recursion eventually terminates. Without a proper base case, the function can keep calling itself indefinitely, causing a stack overflow error."
   ]
  },
  {
   "cell_type": "code",
   "execution_count": 27,
   "metadata": {},
   "outputs": [
    {
     "name": "stdout",
     "output_type": "stream",
     "text": [
      "The GCD of 48 and 18 is: 6\n"
     ]
    }
   ],
   "source": [
    "#6.Create a recursive Python function to find the greatest common divisor (GCD) of two numbers using the Euclidean algorithm.\n",
    "\n",
    "def gcd(a, b):\n",
    "    if b == 0:\n",
    "        return a\n",
    "    else:\n",
    "        return gcd(b, a % b)\n",
    "\n",
    "# Example usage:\n",
    "num1, num2 = 48, 18\n",
    "result = gcd(num1, num2)\n",
    "print(f\"The GCD of {num1} and {num2} is: {result}\")\n"
   ]
  },
  {
   "cell_type": "code",
   "execution_count": 26,
   "metadata": {},
   "outputs": [
    {
     "name": "stdout",
     "output_type": "stream",
     "text": [
      "The reversed string of 'hello' is: olleh\n"
     ]
    }
   ],
   "source": [
    "#7. Write a recursive Python function to reverse a string.\n",
    "\n",
    "def reverse_string(s):\n",
    "    if len(s) == 0:\n",
    "        return s\n",
    "    else:\n",
    "        return reverse_string(s[1:]) + s[0]\n",
    "\n",
    "# Example usage:\n",
    "text = \"hello\"\n",
    "result = reverse_string(text)\n",
    "print(f\"The reversed string of '{text}' is: {result}\")\n",
    "\n",
    "\n"
   ]
  },
  {
   "cell_type": "code",
   "execution_count": 25,
   "metadata": {},
   "outputs": [
    {
     "name": "stdout",
     "output_type": "stream",
     "text": [
      "2 raised to the power 3 is: 8\n"
     ]
    }
   ],
   "source": [
    "#8. Create a recursive Python function to calculate the power of a number (x^n).\n",
    "\n",
    "\n",
    "def power(x, n):\n",
    "    if n == 0:\n",
    "        return 1\n",
    "    else:\n",
    "        return x * power(x, n - 1)\n",
    "\n",
    "# Example usage:\n",
    "base, exponent = 2, 3\n",
    "result = power(base, exponent)\n",
    "print(f\"{base} raised to the power {exponent} is: {result}\")\n"
   ]
  },
  {
   "cell_type": "code",
   "execution_count": 24,
   "metadata": {},
   "outputs": [
    {
     "name": "stdout",
     "output_type": "stream",
     "text": [
      "All permutations of 'abc' are: ['abc', 'acb', 'bac', 'bca', 'cab', 'cba']\n"
     ]
    }
   ],
   "source": [
    "#9. Write a recursive Python function to find all permutations of a given string.\n",
    "\n",
    "\n",
    "from itertools import permutations\n",
    "\n",
    "def all_permutations(s):\n",
    "    return [''.join(p) for p in permutations(s)]\n",
    "\n",
    "# Example usage:\n",
    "text = \"abc\"\n",
    "result = all_permutations(text)\n",
    "print(f\"All permutations of '{text}' are: {result}\")\n"
   ]
  },
  {
   "cell_type": "code",
   "execution_count": 23,
   "metadata": {},
   "outputs": [
    {
     "name": "stdout",
     "output_type": "stream",
     "text": [
      "'Madam' is a palindrome: True\n"
     ]
    }
   ],
   "source": [
    "#10. Write a recursive Python function to check if a string is a palindrome.\n",
    "\n",
    "\n",
    "def is_palindrome(s):\n",
    "    s = s.lower().replace(\" \", \"\")  # Convert to lowercase and remove spaces\n",
    "    if len(s) <= 1:\n",
    "        return True\n",
    "    else:\n",
    "        return s[0] == s[-1] and is_palindrome(s[1:-1])\n",
    "\n",
    "# Example usage:\n",
    "text = \"Madam\"\n",
    "result = is_palindrome(text)\n",
    "print(f\"'{text}' is a palindrome: {result}\")\n"
   ]
  },
  {
   "cell_type": "code",
   "execution_count": 22,
   "metadata": {},
   "outputs": [
    {
     "name": "stdout",
     "output_type": "stream",
     "text": [
      "All combinations of [1, 2, 3] are: [(), (1,), (2,), (3,), (1, 2), (1, 3), (2, 3), (1, 2, 3)]\n"
     ]
    }
   ],
   "source": [
    "#11.  Create a recursive Python function to generate all possible combinations of a list of elements.\n",
    "\n",
    "from itertools import combinations\n",
    "\n",
    "def all_combinations(arr):\n",
    "    result = []\n",
    "    for r in range(len(arr) + 1):\n",
    "        result += list(combinations(arr, r))\n",
    "    return result\n",
    "\n",
    "# Example usage:\n",
    "elements = [1, 2, 3]\n",
    "result = all_combinations(elements)\n",
    "print(f\"All combinations of {elements} are: {result}\")\n"
   ]
  },
  {
   "cell_type": "markdown",
   "metadata": {},
   "source": [
    "Q-1) What is a function in Python, and why is it used?\n",
    "\n",
    "\n",
    "A function in Python is a block of reusable code designed to perform a specific task. It enables modular programming by breaking down tasks into smaller, manageable pieces, allowing easier maintenance, readability, and reusability of code."
   ]
  },
  {
   "cell_type": "markdown",
   "metadata": {},
   "source": [
    "Q-2)  How do you define a function in Python? Provide an example.\n",
    "\n",
    "\n",
    "In Python, you can define a function using the def keyword followed by the function name, parameters in parentheses, and a block of code with the task the function performs. Here's an example:\n",
    "\n",
    "# Define a function to greet the user\n",
    "def greet(name):\n",
    "    print(f\"Hello, {name}!\")\n",
    "\n",
    "# Call the function\n",
    "greet(\"Alice\")\n",
    "\n"
   ]
  },
  {
   "cell_type": "markdown",
   "metadata": {},
   "source": [
    "Q-3) Explain the difference between a function definition and a function call.\n",
    "\n",
    "\n",
    "Ans-3)  Function Definition: This is the part where you create the function, specifying its name, parameters, and code block.\n",
    "Function Call: It is the action of executing or invoking the function by using its name followed by parentheses and, if necessary, passing required arguments.\n"
   ]
  },
  {
   "cell_type": "markdown",
   "metadata": {},
   "source": [
    "Q-4)  Write a Python program that defines a function to calculate the sum of two numbers and then calls the function.\n",
    "\n",
    "# Define a function to calculate the sum of two numbers\n",
    "def calculate_sum(a, b):\n",
    "    return a + b\n",
    "\n",
    "# Call the function\n",
    "result = calculate_sum(5, 3)\n",
    "print(\"The sum is:\", result)\n",
    "\n"
   ]
  },
  {
   "cell_type": "markdown",
   "metadata": {},
   "source": [
    "Q-5) What is a function signature, and what information does it typically include?\n",
    "\n",
    "Ans-5) A function signature typically includes the function name, parameter types (names), and the return type. It's a high-level description that provides information about the function's input, output, and behavior."
   ]
  },
  {
   "cell_type": "markdown",
   "metadata": {},
   "source": [
    "Q-6) Create a Python function that takes two arguments and returns their product.\n",
    "\n",
    "def calculate_product(x, y):\n",
    "    return x * y\n",
    "\n",
    "# Example usage:\n",
    "result = calculate_product(4, 7)\n",
    "print(\"The product is:\", result)\n"
   ]
  },
  {
   "cell_type": "markdown",
   "metadata": {},
   "source": [
    "Q-1)  Explain the concepts of formal parameters and actual arguments in Python functions.\n",
    "\n",
    "Formal Parameters: These are the placeholders defined in the function's definition to receive input values. They act as variables within the function.\n",
    "Actual Arguments: These are the values passed to the function when it is called. These values are assigned to the formal parameters during the function execution."
   ]
  },
  {
   "cell_type": "code",
   "execution_count": 31,
   "metadata": {},
   "outputs": [
    {
     "name": "stdout",
     "output_type": "stream",
     "text": [
      "Hello, Guest!\n",
      "Hello, Alice!\n"
     ]
    }
   ],
   "source": [
    "#2  Write a Python program that defines a function with default argument values.\n",
    "\n",
    "    \n",
    "def greet(name=\"Guest\"):\n",
    "   print(f\"Hello, {name}!\")\n",
    "\n",
    "# Call without providing an argument\n",
    "greet()  # Output: Hello, Guest!\n",
    "\n",
    "# Call with an argument\n",
    "greet(\"Alice\")  # Output: Hello, Alice!\n"
   ]
  },
  {
   "cell_type": "markdown",
   "metadata": {},
   "source": [
    "Q-3) How do you use keyword arguments in Python function calls? Provide an example.\n",
    "\n",
    "Keyword arguments allow passing arguments to functions using parameter names, which allows you to pass arguments in any order.\n",
    "\n",
    "def describe_person(name, age):\n",
    "    print(f\"{name} is {age} years old.\")\n",
    "\n",
    "# Calling with keyword arguments\n",
    "describe_person(age=25, name=\"Alice\")  # Output: Alice is 25 years old.\n"
   ]
  },
  {
   "cell_type": "code",
   "execution_count": 33,
   "metadata": {},
   "outputs": [
    {
     "name": "stdout",
     "output_type": "stream",
     "text": [
      "The sum is: 10\n"
     ]
    }
   ],
   "source": [
    "#4. Create a Python function that accepts a variable number of arguments and calculates their sum.\n",
    "\n",
    "#The *args syntax allows a function to accept any number of positional arguments, and they are captured as a tuple inside the function.\n",
    "\n",
    "def calculate_sum(*args):\n",
    "    return sum(args)\n",
    "\n",
    "# Example usage:\n",
    "result = calculate_sum(1, 2, 3, 4)\n",
    "print(\"The sum is:\", result)  # Output: The sum is: 10\n"
   ]
  },
  {
   "cell_type": "markdown",
   "metadata": {},
   "source": [
    "Q-5) What is the purpose of the `*args` and `**kwargs` syntax in function parameter lists?\n",
    "\n",
    "Ans-5) *args: Collects any number of positional arguments as a tuple.\n",
    "**kwargs: Collects any number of keyword arguments as a dictionary.\n",
    "They provide flexibility in defining functions that can accept varying numbers of arguments or named arguments.\n",
    "\n",
    "These concepts and syntaxes offer flexibility and versatility in handling function arguments, making functions more adaptable to different use cases and scenarios."
   ]
  },
  {
   "cell_type": "markdown",
   "metadata": {},
   "source": [
    "Q-1.  Describe the role of the `return` statement in Python functions and provide examples.\n",
    "\n",
    "The return statement is used to exit a function and return a value.\n",
    "It allows a function to produce a result that can be used in the code that called the function.\n",
    "\n",
    "\n",
    "def add(a, b):\n",
    "    return a + b\n",
    "\n",
    "result = add(3, 5)\n",
    "print(result)  # Output: 8\n"
   ]
  },
  {
   "cell_type": "markdown",
   "metadata": {},
   "source": [
    "Q-2.  Explain the concept of variable scope in Python, including local and global variables.\n",
    "\n",
    "Ans-2) Local Variables: Defined within a function and are only accessible inside that function.\n",
    "Global Variables: Defined outside of functions and can be accessed and modified by any function within the same module."
   ]
  },
  {
   "cell_type": "code",
   "execution_count": 35,
   "metadata": {},
   "outputs": [
    {
     "name": "stdout",
     "output_type": "stream",
     "text": [
      "15\n"
     ]
    }
   ],
   "source": [
    "#3.  Write a Python program that demonstrates the use of global variables within functions.\n",
    "\n",
    "global_var = 10\n",
    "\n",
    "def modify_global():\n",
    "    global global_var\n",
    "    global_var += 5\n",
    "\n",
    "modify_global()\n",
    "print(global_var)  # Output: 15\n"
   ]
  },
  {
   "cell_type": "code",
   "execution_count": 34,
   "metadata": {},
   "outputs": [
    {
     "name": "stdout",
     "output_type": "stream",
     "text": [
      "120\n"
     ]
    }
   ],
   "source": [
    "#4.  Create a Python function that calculates the factorial of a number and returns it.\n",
    "\n",
    "def factorial(n):\n",
    "    if n == 0 or n == 1:\n",
    "        return 1\n",
    "    return n * factorial(n - 1)\n",
    "\n",
    "result = factorial(5)\n",
    "print(result)  # Output: 120\n",
    "\n"
   ]
  },
  {
   "cell_type": "markdown",
   "metadata": {},
   "source": [
    "Q-5)  How can you access variables defined outside a function from within the function?\n",
    "\n",
    "\n",
    "Global variables can be accessed within a function using the global keyword, allowing modification of global variables within the function. However, accessing global variables without the global keyword allows only read access.\n",
    "\n",
    "global_var = 10\n",
    "\n",
    "def access_global():\n",
    "    print(global_var)  # Accessing global_var without 'global' keyword\n",
    "\n",
    "access_global()  # Output: 10\n"
   ]
  },
  {
   "cell_type": "markdown",
   "metadata": {},
   "source": [
    "Q-1. What are lambda functions in Python, and when are they typically used?\n",
    "\n",
    "Lambda functions are small, anonymous functions defined using the lambda keyword.\n",
    "They are typically used when you need a simple, short function for a short period and don't want to define a full-fledged function using def.\n",
    "\n",
    "# Lambda function to square a number\n",
    "square = lambda x: x ** 2\n",
    "result = square(5)\n",
    "print(result) \n",
    " # Output: 25\n"
   ]
  },
  {
   "cell_type": "code",
   "execution_count": 36,
   "metadata": {},
   "outputs": [
    {
     "name": "stdout",
     "output_type": "stream",
     "text": [
      "[(4, 3), (2, 5), (1, 9)]\n"
     ]
    }
   ],
   "source": [
    "#2.  Write a Python program that uses lambda functions to sort a list of tuples based on the second element.\n",
    "\n",
    "\n",
    "data = [(2, 5), (1, 9), (4, 3)]\n",
    "sorted_data = sorted(data, key=lambda x: x[1])\n",
    "print(sorted_data)  # Output: [(2, 5), (4, 3), (1, 9)]\n"
   ]
  },
  {
   "cell_type": "markdown",
   "metadata": {},
   "source": [
    "Q-3.  Explain the concept of higher-order functions in Python, and provide an example.\n",
    "\n",
    "\n",
    "Higher-order functions take other functions as arguments or return functions as results.\n",
    "They enable functional programming paradigms and are flexible tools for abstraction and code organization.\n",
    "\n",
    "\n",
    "def apply_func(func, num_list):\n",
    "    return [func(x) for x in num_list]\n",
    "\n",
    "# Applying the square function to a list of numbers using higher-order function\n",
    "numbers = [1, 2, 3, 4, 5]\n",
    "result = apply_func(lambda x: x ** 2, numbers)\n",
    "print(result) \n",
    " # Output: [1, 4, 9, 16, 25]\n"
   ]
  },
  {
   "cell_type": "code",
   "execution_count": 37,
   "metadata": {},
   "outputs": [
    {
     "name": "stdout",
     "output_type": "stream",
     "text": [
      "[1, 8, 27, 64, 125]\n"
     ]
    }
   ],
   "source": [
    "#4. Create a Python function that takes a list of numbers and a function as arguments, applying the function to each element in the list.\n",
    "\n",
    "def apply_function(func, num_list):\n",
    "    return [func(x) for x in num_list]\n",
    "\n",
    "numbers = [1, 2, 3, 4, 5]\n",
    "result = apply_function(lambda x: x ** 3, numbers)\n",
    "print(result) \n",
    " # Output: [1, 8, 27, 64, 125]\n"
   ]
  },
  {
   "cell_type": "markdown",
   "metadata": {},
   "source": [
    "Q-1). Describe the role of built-in functions like `len()`, `max()`, and `min()` in Python.\n",
    "\n",
    "\n",
    "Ans-1)\n",
    "len() function: It returns the length of an object, like a string, list, tuple, etc.\n",
    "\n",
    "length = len(\"Hello\")  # Returns 5\n",
    "\n",
    "\n",
    "\n",
    "max() function: It returns the maximum value among the provided arguments or elements in an iterable.\n",
    "\n",
    "maximum = max(5, 2, 9, 11)  # Returns 11\n",
    "\n",
    "\n",
    "min() function: It returns the minimum value among the provided arguments or elements in an iterable.\n",
    "minimum = min(5, 2, 9, 11)  # Returns 2\n",
    "\n"
   ]
  },
  {
   "cell_type": "code",
   "execution_count": 39,
   "metadata": {},
   "outputs": [
    {
     "name": "stdout",
     "output_type": "stream",
     "text": [
      "[1, 4, 9, 16, 25]\n"
     ]
    }
   ],
   "source": [
    "#2. Write a Python program that uses the `map()` function to apply a function to each element of a list.\n",
    "\n",
    "\n",
    "numbers = [1, 2, 3, 4, 5]\n",
    "squared = list(map(lambda x: x ** 2, numbers))\n",
    "print(squared)  # Output: [1, 4, 9, 16, 25]\n"
   ]
  },
  {
   "cell_type": "markdown",
   "metadata": {},
   "source": [
    "Q-3.  How does the `filter()` function work in Python, and when would you use it?\n",
    "\n",
    "\n",
    "filter() function: It filters elements from an iterable based on a function that returns True or False.\n",
    "Use it when you want to selectively extract elements from a collection.\n",
    "\n",
    "numbers = [1, 2, 3, 4, 5, 6]\n",
    "even_numbers = list(filter(lambda x: x % 2 == 0, numbers))\n",
    "print(even_numbers)  # Output: [2, 4, 6]\n"
   ]
  },
  {
   "cell_type": "code",
   "execution_count": 38,
   "metadata": {},
   "outputs": [
    {
     "name": "stdout",
     "output_type": "stream",
     "text": [
      "120\n"
     ]
    }
   ],
   "source": [
    "#4.  Create a Python program that uses the `reduce()` function to find the product of all elements in a list.\n",
    "\n",
    "from functools import reduce\n",
    "\n",
    "numbers = [1, 2, 3, 4, 5]\n",
    "product = reduce(lambda x, y: x * y, numbers)\n",
    "print(product)  # Output: 120 (1*2*3*4*5)\n",
    "\n"
   ]
  },
  {
   "cell_type": "markdown",
   "metadata": {},
   "source": [
    "Q-1) Explain the purpose of docstrings in Python functions and how to write them.\n",
    "\n",
    "Ans-1) Purpose: Docstrings are used to provide documentation and information about a function or module. They describe what the function does, its parameters, return values, and any important details.\n",
    "Writing: Docstrings are written as a string literal enclosed in triple quotes (single or double). They appear as the first statement after the function or module header.\n",
    "\n",
    "def my_function(param):\n",
    "    \"\"\"This is a docstring.\n",
    "    \n",
    "    This function does XYZ.\n",
    "    \n",
    "    Parameters:\n",
    "    param -- Description of the parameter\n",
    "    \n",
    "    Returns:\n",
    "    int -- Description of the return value\n",
    "    \"\"\"\n",
    "    # Function code here\n"
   ]
  },
  {
   "cell_type": "markdown",
   "metadata": {},
   "source": [
    "Q-2) Describe some best practices for naming functions and variables in Python, including naming conventions and guidelines.\n",
    "\n",
    "\n",
    "Ans-2) Function Naming:\n",
    "\n",
    "Use descriptive names that convey the purpose of the function.\n",
    "Follow the lowercase_with_underscores naming convention for functions.\n",
    "Use verbs or verb phrases for function names to indicate actions performed.\n",
    "For multi-word names, use underscores for readability (calculate_sum, find_maximum, etc.).\n",
    "Variable Naming:\n",
    "\n",
    "Use lowercase names with underscores for variable names (my_variable, user_name, etc.).\n",
    "Use descriptive and meaningful names to enhance code readability.\n",
    "Avoid using single characters or ambiguous names (x, temp, etc.).\n",
    "For constants, use all uppercase with underscores (MAX_VALUE, PI, etc.).\n",
    "General Naming Conventions:\n",
    "\n",
    "Maintain consistency throughout the codebase to ensure readability.\n",
    "Be explicit and descriptive to convey the purpose of the function or variable.\n",
    "Avoid using reserved keywords or names that shadow built-in functions or modules (list, int, etc.)."
   ]
  }
 ],
 "metadata": {
  "kernelspec": {
   "display_name": "Python 3",
   "language": "python",
   "name": "python3"
  },
  "language_info": {
   "codemirror_mode": {
    "name": "ipython",
    "version": 3
   },
   "file_extension": ".py",
   "mimetype": "text/x-python",
   "name": "python",
   "nbconvert_exporter": "python",
   "pygments_lexer": "ipython3",
   "version": "3.11.6"
  }
 },
 "nbformat": 4,
 "nbformat_minor": 2
}
