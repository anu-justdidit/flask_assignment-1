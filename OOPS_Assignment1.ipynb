{
 "cells": [
  {
   "cell_type": "code",
   "execution_count": 1,
   "metadata": {},
   "outputs": [],
   "source": [
    "class a :\n",
    "    \n",
    "    def test(self):\n",
    "        print(\"this test method is a part of class a\")\n",
    "        \n",
    "    def test1(self):\n",
    "        print(\"this is test1 from class a \")"
   ]
  },
  {
   "cell_type": "code",
   "execution_count": 2,
   "metadata": {},
   "outputs": [],
   "source": [
    "obj_a = a()"
   ]
  },
  {
   "cell_type": "code",
   "execution_count": 3,
   "metadata": {},
   "outputs": [
    {
     "name": "stdout",
     "output_type": "stream",
     "text": [
      "this test method is a part of class a\n"
     ]
    }
   ],
   "source": [
    "obj_a.test()"
   ]
  },
  {
   "cell_type": "code",
   "execution_count": 4,
   "metadata": {},
   "outputs": [],
   "source": [
    "class b(a) :\n",
    "    def test1b(self):\n",
    "        print(\"this is a part of class b \")"
   ]
  },
  {
   "cell_type": "code",
   "execution_count": 5,
   "metadata": {},
   "outputs": [],
   "source": [
    "obj_b = b()"
   ]
  },
  {
   "cell_type": "code",
   "execution_count": 6,
   "metadata": {},
   "outputs": [
    {
     "name": "stdout",
     "output_type": "stream",
     "text": [
      "this test method is a part of class a\n"
     ]
    }
   ],
   "source": [
    "obj_b.test()"
   ]
  },
  {
   "cell_type": "code",
   "execution_count": 7,
   "metadata": {},
   "outputs": [
    {
     "name": "stdout",
     "output_type": "stream",
     "text": [
      "this is test1 from class a \n"
     ]
    }
   ],
   "source": [
    "obj_b.test1()"
   ]
  },
  {
   "cell_type": "code",
   "execution_count": 10,
   "metadata": {},
   "outputs": [
    {
     "name": "stdout",
     "output_type": "stream",
     "text": [
      "this is a part of class b \n"
     ]
    }
   ],
   "source": [
    "obj_b.test1b()"
   ]
  },
  {
   "cell_type": "code",
   "execution_count": 11,
   "metadata": {},
   "outputs": [],
   "source": [
    "class lecture:\n",
    "    \n",
    "    def topic(self):\n",
    "        print(\"todays class we are discussing about inheritance condept in oops\")\n",
    "        \n",
    "    def timing(self):\n",
    "        print(\"timing for todays class is 9 AM IST\")\n",
    "        \n",
    "    def end_time(self):\n",
    "        print(\"today i will try to end class bit early\")"
   ]
  },
  {
   "cell_type": "code",
   "execution_count": 12,
   "metadata": {},
   "outputs": [],
   "source": [
    "class student(lecture):\n",
    "    \n",
    "    def student_details(self):\n",
    "        print(\"this class will give you a student details\")"
   ]
  },
  {
   "cell_type": "code",
   "execution_count": 13,
   "metadata": {},
   "outputs": [],
   "source": [
    "naval = student()"
   ]
  },
  {
   "cell_type": "code",
   "execution_count": 14,
   "metadata": {},
   "outputs": [
    {
     "name": "stdout",
     "output_type": "stream",
     "text": [
      "todays class we are discussing about inheritance condept in oops\n"
     ]
    }
   ],
   "source": [
    "naval.topic()"
   ]
  },
  {
   "cell_type": "code",
   "execution_count": 15,
   "metadata": {},
   "outputs": [
    {
     "name": "stdout",
     "output_type": "stream",
     "text": [
      "timing for todays class is 9 AM IST\n"
     ]
    }
   ],
   "source": [
    "satish = student()\n",
    "satish.timing()"
   ]
  },
  {
   "cell_type": "code",
   "execution_count": 16,
   "metadata": {},
   "outputs": [],
   "source": [
    "class teacher(student):\n",
    "    def details(self):\n",
    "        print(\"this will give you a details about teacher\")"
   ]
  },
  {
   "cell_type": "code",
   "execution_count": 17,
   "metadata": {},
   "outputs": [
    {
     "name": "stdout",
     "output_type": "stream",
     "text": [
      "timing for todays class is 9 AM IST\n"
     ]
    }
   ],
   "source": [
    "sudh = teacher()\n",
    "sudh.timing()"
   ]
  },
  {
   "cell_type": "code",
   "execution_count": 18,
   "metadata": {},
   "outputs": [],
   "source": [
    "class lecture:\n",
    "    def topic(self):\n",
    "        print(\"todays class we are discussing about inheritance condept in oops\")\n",
    "        \n",
    "    def timing(self):\n",
    "        print(\"timing for todays class is 9 AM IST\")\n",
    "        \n",
    "    def end_time(self):\n",
    "        print(\"today i will try to end class bit early\")"
   ]
  },
  {
   "cell_type": "code",
   "execution_count": 19,
   "metadata": {},
   "outputs": [],
   "source": [
    "class student:\n",
    "    \n",
    "    def student_details(self):\n",
    "        print(\"this class will give you a student details\")\n",
    "        \n",
    "    def timing(self):\n",
    "        print(\"this is a timing fun from student class\")\n",
    "        "
   ]
  },
  {
   "cell_type": "code",
   "execution_count": 20,
   "metadata": {},
   "outputs": [],
   "source": [
    "class teacher(lecture,student):\n",
    "    def details(self):\n",
    "        print(\"this will give you a details about teacher\")"
   ]
  },
  {
   "cell_type": "code",
   "execution_count": 21,
   "metadata": {},
   "outputs": [],
   "source": [
    "krish = teacher()"
   ]
  },
  {
   "cell_type": "code",
   "execution_count": 22,
   "metadata": {},
   "outputs": [
    {
     "name": "stdout",
     "output_type": "stream",
     "text": [
      "timing for todays class is 9 AM IST\n"
     ]
    }
   ],
   "source": [
    "krish.timing()"
   ]
  },
  {
   "cell_type": "code",
   "execution_count": 23,
   "metadata": {},
   "outputs": [
    {
     "name": "stdout",
     "output_type": "stream",
     "text": [
      "this class will give you a student details\n"
     ]
    }
   ],
   "source": [
    "krish.student_details()"
   ]
  },
  {
   "cell_type": "code",
   "execution_count": 25,
   "metadata": {},
   "outputs": [
    {
     "name": "stdout",
     "output_type": "stream",
     "text": [
      "Account Holder: John Doe\n",
      "Account Number: 1234567890\n",
      "Current Balance: $1000\n",
      "Deposited $500. Current balance is $1500.\n",
      "Withdrew $200. Current balance is $1300.\n",
      "Account Holder: John Doe\n",
      "Account Number: 1234567890\n",
      "Current Balance: $1300\n"
     ]
    }
   ],
   "source": [
    "#Problem 1:Bank Account Create a class representing a bank account with attributes like account number, account holder name, and balance. Implement methods to deposit and withdraw money from the account.\n",
    "#This code defines a BankAccount class with methods for depositing, withdrawing, and displaying the account balance. \n",
    "\n",
    "class BankAccount:\n",
    "    def __init__(self, account_number, account_holder, initial_balance=0):\n",
    "        self.account_number = account_number\n",
    "        self.account_holder = account_holder\n",
    "        self.balance = initial_balance\n",
    "\n",
    "    def deposit(self, amount):\n",
    "        if amount > 0:\n",
    "            self.balance += amount\n",
    "            print(f\"Deposited ${amount}. Current balance is ${self.balance}.\")\n",
    "        else:\n",
    "            print(\"Deposit amount should be greater than zero.\")\n",
    "\n",
    "    def withdraw(self, amount):\n",
    "        if 0 < amount <= self.balance:\n",
    "            self.balance -= amount\n",
    "            print(f\"Withdrew ${amount}. Current balance is ${self.balance}.\")\n",
    "        else:\n",
    "            print(\"Insufficient funds or invalid amount.\")\n",
    "\n",
    "    def display_balance(self):\n",
    "        print(f\"Account Holder: {self.account_holder}\")\n",
    "        print(f\"Account Number: {self.account_number}\")\n",
    "        print(f\"Current Balance: ${self.balance}\")\n",
    "\n",
    "\n",
    "# Usage Example:\n",
    "account1 = BankAccount(\"1234567890\", \"John Doe\", 1000)\n",
    "account1.display_balance()  # Display initial balance\n",
    "\n",
    "account1.deposit(500)  # Deposit $500\n",
    "account1.withdraw(200)  # Withdraw $200\n",
    "account1.display_balance()  # Display updated balance\n"
   ]
  },
  {
   "cell_type": "code",
   "execution_count": 33,
   "metadata": {},
   "outputs": [],
   "source": [
    "#Problem 2: Employee Management Create a class representing an employee with attributes like employee ID, name, and salary. Implement methods to calculate the yearly bonus and display employee details.class Employee:\n",
    "#This class allows you to add vehicles, rent vehicles, return vehicles, and display available vehicles in the rental system\n",
    "\n",
    "\n",
    "def __init__(self, employee_id, name, salary):\n",
    "        self.employee_id = employee_id\n",
    "        self.name = name\n",
    "        self.salary = salary\n",
    "\n",
    "def calculate_yearly_bonus(self):\n",
    "        # Assuming a simple bonus calculation based on salary\n",
    "        return 0.1 * self.salary  # 10% of the salary as a bonus\n",
    "\n",
    "def display_employee_details(self):\n",
    "        print(f\"Employee ID: {self.employee_id}\")\n",
    "        print(f\"Name: {self.name}\")\n",
    "        print(f\"Salary: ${self.salary}\")\n"
   ]
  },
  {
   "cell_type": "code",
   "execution_count": 29,
   "metadata": {},
   "outputs": [
    {
     "name": "stdout",
     "output_type": "stream",
     "text": [
      "Yearly Bonus: $5000.0\n",
      "Employee ID: 1\n",
      "Name: John Doe\n",
      "Salary: $50000\n"
     ]
    }
   ],
   "source": [
    "#This class allows you to create an Employee object, calculate the yearly bonus based on a predefined formula, and display employee details\n",
    "\n",
    "# Creating an employee\n",
    "emp1 = Employee(1, \"John Doe\", 50000)\n",
    "\n",
    "# Calculating yearly bonus\n",
    "yearly_bonus = emp1.calculate_yearly_bonus()\n",
    "print(f\"Yearly Bonus: ${yearly_bonus}\")\n",
    "\n",
    "# Displaying employee details\n",
    "emp1.display_employee_details()\n"
   ]
  },
  {
   "cell_type": "code",
   "execution_count": 34,
   "metadata": {},
   "outputs": [
    {
     "name": "stdout",
     "output_type": "stream",
     "text": [
      "Available Vehicles:\n",
      "SUV\n",
      "Bike\n",
      "Car\n",
      "Vehicle Car rented successfully.\n",
      "Sorry, Bus is not available for rent.\n",
      "Available Vehicles:\n",
      "SUV\n",
      "Bike\n",
      "Vehicle Car returned successfully.\n",
      "Available Vehicles:\n",
      "SUV\n",
      "Bike\n",
      "Car\n"
     ]
    }
   ],
   "source": [
    "#Problem 3: Vehicle Rental Create a class representing a vehicle rental system. Implement methods to rent a vehicle, return a vehicle, and display available vehicles.\n",
    "\n",
    "class VehicleRentalSystem:\n",
    "    def __init__(self):\n",
    "        self.available_vehicles = set()\n",
    "        self.rented_vehicles = set()\n",
    "\n",
    "    def add_vehicle(self, vehicle):\n",
    "        self.available_vehicles.add(vehicle)\n",
    "\n",
    "    def rent_vehicle(self, vehicle):\n",
    "        if vehicle in self.available_vehicles:\n",
    "            self.available_vehicles.remove(vehicle)\n",
    "            self.rented_vehicles.add(vehicle)\n",
    "            print(f\"Vehicle {vehicle} rented successfully.\")\n",
    "        else:\n",
    "            print(f\"Sorry, {vehicle} is not available for rent.\")\n",
    "\n",
    "    def return_vehicle(self, vehicle):\n",
    "        if vehicle in self.rented_vehicles:\n",
    "            self.rented_vehicles.remove(vehicle)\n",
    "            self.available_vehicles.add(vehicle)\n",
    "            print(f\"Vehicle {vehicle} returned successfully.\")\n",
    "        else:\n",
    "            print(f\"This {vehicle} was not rented from here.\")\n",
    "\n",
    "    def display_available_vehicles(self):\n",
    "        print(\"Available Vehicles:\")\n",
    "        for vehicle in self.available_vehicles:\n",
    "            print(vehicle)\n",
    "\n",
    "# Example usage:\n",
    "if __name__ == \"__main__\":\n",
    "    rental_system = VehicleRentalSystem()\n",
    "\n",
    "    # Adding vehicles to the rental system\n",
    "    rental_system.add_vehicle(\"Car\")\n",
    "    rental_system.add_vehicle(\"SUV\")\n",
    "    rental_system.add_vehicle(\"Bike\")\n",
    "\n",
    "    # Displaying available vehicles\n",
    "    rental_system.display_available_vehicles()\n",
    "\n",
    "    # Renting a vehicle\n",
    "    rental_system.rent_vehicle(\"Car\")\n",
    "    rental_system.rent_vehicle(\"Bus\")\n",
    "\n",
    "    # Displaying available vehicles after renting\n",
    "    rental_system.display_available_vehicles()\n",
    "\n",
    "    # Returning a vehicle\n",
    "    rental_system.return_vehicle(\"Car\")\n",
    "\n",
    "    # Displaying available vehicles after returning\n",
    "    rental_system.display_available_vehicles()\n"
   ]
  },
  {
   "cell_type": "code",
   "execution_count": 36,
   "metadata": {},
   "outputs": [
    {
     "name": "stdout",
     "output_type": "stream",
     "text": [
      "Book 'Python Programming' added to the library catalog.\n",
      "Book 'Introduction to Algorithms' added to the library catalog.\n",
      "Book 'The Great Gatsby' added to the library catalog.\n",
      "Available Books:\n",
      "Python Programming by Guido van Rossum\n",
      "Introduction to Algorithms by Thomas H. Cormen\n",
      "The Great Gatsby by F. Scott Fitzgerald\n",
      "Book 'Python Programming' has been borrowed.\n",
      "Book 'The Great Gatsby' has been borrowed.\n",
      "Available Books:\n",
      "Introduction to Algorithms by Thomas H. Cormen\n",
      "Book 'Python Programming' has been returned.\n",
      "Available Books:\n",
      "Python Programming by Guido van Rossum\n",
      "Introduction to Algorithms by Thomas H. Cormen\n"
     ]
    }
   ],
   "source": [
    "#Problem 4: Library Catalog Create classes representing a library and a book. Implement methods to add books to the library, borrow books, and display available books.\n",
    "#This program creates a Library class that manages a list of books. It provides methods to add books to the library, display available books, borrow books, and return books. \n",
    "\n",
    "\n",
    "class Book:\n",
    "    def __init__(self, book_id, title, author):\n",
    "        self.book_id = book_id\n",
    "        self.title = title\n",
    "        self.author = author\n",
    "        self.available = True\n",
    "\n",
    "    def __repr__(self):\n",
    "        return f\"{self.title} by {self.author}\"\n",
    "\n",
    "    def is_available(self):\n",
    "        return self.available\n",
    "\n",
    "    def borrow_book(self):\n",
    "        if self.available:\n",
    "            self.available = False\n",
    "            print(f\"Book '{self.title}' has been borrowed.\")\n",
    "        else:\n",
    "            print(f\"Book '{self.title}' is currently not available.\")\n",
    "\n",
    "    def return_book(self):\n",
    "        if not self.available:\n",
    "            self.available = True\n",
    "            print(f\"Book '{self.title}' has been returned.\")\n",
    "        else:\n",
    "            print(f\"This '{self.title}' was not borrowed from here.\")\n",
    "\n",
    "\n",
    "class Library:\n",
    "    def __init__(self):\n",
    "        self.books = []\n",
    "\n",
    "    def add_book(self, book):\n",
    "        self.books.append(book)\n",
    "        print(f\"Book '{book.title}' added to the library catalog.\")\n",
    "\n",
    "    def display_available_books(self):\n",
    "        available_books = [book for book in self.books if book.is_available()]\n",
    "        if available_books:\n",
    "            print(\"Available Books:\")\n",
    "            for book in available_books:\n",
    "                print(book)\n",
    "        else:\n",
    "            print(\"No books are currently available in the library.\")\n",
    "\n",
    "    def borrow_book(self, book_title):\n",
    "        found = False\n",
    "        for book in self.books:\n",
    "            if book.title.lower() == book_title.lower():\n",
    "                book.borrow_book()\n",
    "                found = True\n",
    "                break\n",
    "        if not found:\n",
    "            print(f\"Book '{book_title}' not found in the library catalog.\")\n",
    "\n",
    "    def return_book(self, book_title):\n",
    "        found = False\n",
    "        for book in self.books:\n",
    "            if book.title.lower() == book_title.lower():\n",
    "                book.return_book()\n",
    "                found = True\n",
    "                break\n",
    "        if not found:\n",
    "            print(f\"Book '{book_title}' not found in the library catalog.\")\n",
    "\n",
    "\n",
    "# Example Usage:\n",
    "if __name__ == \"__main__\":\n",
    "    book1 = Book(1, \"Python Programming\", \"Guido van Rossum\")\n",
    "    book2 = Book(2, \"Introduction to Algorithms\", \"Thomas H. Cormen\")\n",
    "    book3 = Book(3, \"The Great Gatsby\", \"F. Scott Fitzgerald\")\n",
    "\n",
    "    library = Library()\n",
    "    library.add_book(book1)\n",
    "    library.add_book(book2)\n",
    "    library.add_book(book3)\n",
    "\n",
    "    library.display_available_books()\n",
    "\n",
    "    library.borrow_book(\"Python Programming\")\n",
    "    library.borrow_book(\"The Great Gatsby\")\n",
    "\n",
    "    library.display_available_books()\n",
    "\n",
    "    library.return_book(\"Python Programming\")\n",
    "\n",
    "    library.display_available_books()\n"
   ]
  },
  {
   "cell_type": "code",
   "execution_count": 1,
   "metadata": {},
   "outputs": [
    {
     "name": "stdout",
     "output_type": "stream",
     "text": [
      "Available Products:\n",
      "Product ID: 1\n",
      "Name: Laptop\n",
      "Price: $999.99\n",
      "Quantity: 10\n",
      "Product ID: 2\n",
      "Name: Phone\n",
      "Price: $699.99\n",
      "Quantity: 20\n",
      "\n",
      "After updating quantity:\n",
      "Product ID: 1\n",
      "Name: Laptop\n",
      "Price: $999.99\n",
      "Quantity: 15\n",
      "Product ID: 2\n",
      "Name: Phone\n",
      "Price: $699.99\n",
      "Quantity: 20\n"
     ]
    }
   ],
   "source": [
    "#Problem 5: Product Inventory Create classes representing a product and an inventory system. Implement methods to add products to the inventory, update product quantity, and display available products.\n",
    "#This code defines a Product class to represent products with attributes such as product ID, name, price, and quantity. It also defines an Inventory class to manage products, with methods to add products, update product quantity, and display available products.\n",
    "\n",
    "\n",
    "\n",
    "\n",
    "class Product:\n",
    "    def __init__(self, product_id, name, price, quantity):\n",
    "        self.product_id = product_id\n",
    "        self.name = name\n",
    "        self.price = price\n",
    "        self.quantity = quantity\n",
    "\n",
    "    def update_quantity(self, quantity):\n",
    "        self.quantity += quantity\n",
    "\n",
    "    def display_product(self):\n",
    "        print(f\"Product ID: {self.product_id}\")\n",
    "        print(f\"Name: {self.name}\")\n",
    "        print(f\"Price: ${self.price:.2f}\")\n",
    "        print(f\"Quantity: {self.quantity}\")\n",
    "\n",
    "\n",
    "class Inventory:\n",
    "    def __init__(self):\n",
    "        self.products = []\n",
    "\n",
    "    def add_product(self, product):\n",
    "        self.products.append(product)\n",
    "\n",
    "    def update_quantity(self, product_id, quantity):\n",
    "        for product in self.products:\n",
    "            if product.product_id == product_id:\n",
    "                product.update_quantity(quantity)\n",
    "                break\n",
    "\n",
    "    def display_products(self):\n",
    "        for product in self.products:\n",
    "            product.display_product()\n",
    "\n",
    "\n",
    "# Example Usage:\n",
    "if __name__ == \"__main__\":\n",
    "    # Creating products\n",
    "    product1 = Product(1, \"Laptop\", 999.99, 10)\n",
    "    product2 = Product(2, \"Phone\", 699.99, 20)\n",
    "\n",
    "    # Creating inventory\n",
    "    inventory = Inventory()\n",
    "\n",
    "    # Adding products to inventory\n",
    "    inventory.add_product(product1)\n",
    "    inventory.add_product(product2)\n",
    "\n",
    "    # Displaying available products\n",
    "    print(\"Available Products:\")\n",
    "    inventory.display_products()\n",
    "\n",
    "    # Update quantity of a product\n",
    "    inventory.update_quantity(1, 5)\n",
    "    print(\"\\nAfter updating quantity:\")\n",
    "    inventory.display_products()\n"
   ]
  },
  {
   "cell_type": "code",
   "execution_count": 4,
   "metadata": {},
   "outputs": [
    {
     "name": "stdout",
     "output_type": "stream",
     "text": [
      "Area of Circle: 43.0083671\n",
      "Perimeter of Circle: 23.876084\n"
     ]
    }
   ],
   "source": [
    "#Problem 6: Shape Calculation Create a class representing a shape with attributes like length, width, and height. Implement methods to calculate the area and perimeter of the shape another code\n",
    "#This code allows the user to input different shapes (rectangle, circle, triangle, square) and calculates their respective area and perimeter based on the user-provided dimensions for each shape\n",
    "\n",
    "\n",
    "class Shape:\n",
    "    def __init__(self, shape_type):\n",
    "        self.shape_type = shape_type.lower()\n",
    "\n",
    "    def calculate_area(self):\n",
    "        if self.shape_type == \"rectangle\":\n",
    "            length = float(input(\"Enter length: \"))\n",
    "            width = float(input(\"Enter width: \"))\n",
    "            return length * width\n",
    "\n",
    "        elif self.shape_type == \"circle\":\n",
    "            radius = float(input(\"Enter radius: \"))\n",
    "            return 3.14159 * (radius ** 2)\n",
    "\n",
    "        elif self.shape_type == \"triangle\":\n",
    "            base = float(input(\"Enter base: \"))\n",
    "            height = float(input(\"Enter height: \"))\n",
    "            return 0.5 * base * height\n",
    "\n",
    "        elif self.shape_type == \"square\":\n",
    "            side = float(input(\"Enter side length: \"))\n",
    "            return side ** 2\n",
    "\n",
    "        else:\n",
    "            return \"Invalid shape type\"\n",
    "\n",
    "    def calculate_perimeter(self):\n",
    "        if self.shape_type == \"rectangle\":\n",
    "            length = float(input(\"Enter length: \"))\n",
    "            width = float(input(\"Enter width: \"))\n",
    "            return 2 * (length + width)\n",
    "\n",
    "        elif self.shape_type == \"circle\":\n",
    "            radius = float(input(\"Enter radius: \"))\n",
    "            return 2 * 3.14159 * radius\n",
    "\n",
    "        elif self.shape_type == \"triangle\":\n",
    "            side1 = float(input(\"Enter side 1 length: \"))\n",
    "            side2 = float(input(\"Enter side 2 length: \"))\n",
    "            side3 = float(input(\"Enter side 3 length: \"))\n",
    "            return side1 + side2 + side3\n",
    "\n",
    "        elif self.shape_type == \"square\":\n",
    "            side = float(input(\"Enter side length: \"))\n",
    "            return 4 * side\n",
    "\n",
    "        else:\n",
    "            return \"Invalid shape type\"\n",
    "\n",
    "\n",
    "# Example usage\n",
    "shape_type = input(\"Enter shape type (rectangle, circle, triangle, square): \")\n",
    "shape = Shape(shape_type)\n",
    "\n",
    "area = shape.calculate_area()\n",
    "perimeter = shape.calculate_perimeter()\n",
    "\n",
    "print(f\"Area of {shape_type.capitalize()}: {area}\")\n",
    "print(f\"Perimeter of {shape_type.capitalize()}: {perimeter}\")\n"
   ]
  },
  {
   "cell_type": "code",
   "execution_count": 6,
   "metadata": {},
   "outputs": [
    {
     "name": "stdout",
     "output_type": "stream",
     "text": [
      "Student ID: 1\n",
      "Student Name: Alice\n",
      "Grades: 85, 90, 78\n",
      "Average Grade: 84.33333333333333\n",
      "\n",
      "\n",
      "Student ID: 2\n",
      "Student Name: Bob\n",
      "Grades: 75, 82, 90\n",
      "Average Grade: 82.33333333333333\n"
     ]
    }
   ],
   "source": [
    "#Problem 7: Student Management Create a class representing a student with attributes like student ID, name, and grades. Implement methods to calculate the average grade and display student details.\n",
    "#This Student class allows you to create instances representing individual students. You can add grades for each student using the add_grade() method and then calculate and display their average grade and details using the calculate_average_grade() and display_student_details() methods, respectively.\n",
    "\n",
    "class Student:\n",
    "    def __init__(self, student_id, name):\n",
    "        self.student_id = student_id\n",
    "        self.name = name\n",
    "        self.grades = []\n",
    "\n",
    "    def add_grade(self, grade):\n",
    "        self.grades.append(grade)\n",
    "\n",
    "    def calculate_average_grade(self):\n",
    "        if not self.grades:\n",
    "            return \"No grades available\"\n",
    "        return sum(self.grades) / len(self.grades)\n",
    "\n",
    "    def display_student_details(self):\n",
    "        print(f\"Student ID: {self.student_id}\")\n",
    "        print(f\"Student Name: {self.name}\")\n",
    "        if self.grades:\n",
    "            print(f\"Grades: {', '.join(map(str, self.grades))}\")\n",
    "            print(f\"Average Grade: {self.calculate_average_grade()}\")\n",
    "        else:\n",
    "            print(\"No grades available\")\n",
    "\n",
    "\n",
    "# Example usage\n",
    "student1 = Student(1, \"Alice\")\n",
    "student1.add_grade(85)\n",
    "student1.add_grade(90)\n",
    "student1.add_grade(78)\n",
    "\n",
    "student2 = Student(2, \"Bob\")\n",
    "student2.add_grade(75)\n",
    "student2.add_grade(82)\n",
    "student2.add_grade(90)\n",
    "\n",
    "student1.display_student_details()\n",
    "print(\"\\n\")\n",
    "student2.display_student_details()\n"
   ]
  },
  {
   "cell_type": "code",
   "execution_count": 7,
   "metadata": {},
   "outputs": [
    {
     "name": "stdout",
     "output_type": "stream",
     "text": [
      "Email Sent!\n",
      "Email Details:\n",
      "From: user@example.com\n",
      "To: recipient@example.com\n",
      "Subject: Test Email\n",
      "Content: This is a test email message.\n"
     ]
    }
   ],
   "source": [
    "#Problem 8: Email Management Create a class representing an email with attributes like sender, recipient, and subject. Implement methods to send an email and display email details.\n",
    "#This Email class allows you to create an email instance with sender, recipient, and subject attributes. You can compose an email using the compose_email() method, send the email using the send_email() method, and display the email's details using the display_email_details() method\n",
    "\n",
    "\n",
    "\n",
    "\n",
    "class Email:\n",
    "    def __init__(self, sender, recipient, subject):\n",
    "        self.sender = sender\n",
    "        self.recipient = recipient\n",
    "        self.subject = subject\n",
    "        self.content = None\n",
    "\n",
    "    def compose_email(self, content):\n",
    "        self.content = content\n",
    "\n",
    "    def send_email(self):\n",
    "        if self.content:\n",
    "            print(\"Email Sent!\")\n",
    "            self.display_email_details()\n",
    "        else:\n",
    "            print(\"Please compose the email before sending.\")\n",
    "\n",
    "    def display_email_details(self):\n",
    "        print(\"Email Details:\")\n",
    "        print(f\"From: {self.sender}\")\n",
    "        print(f\"To: {self.recipient}\")\n",
    "        print(f\"Subject: {self.subject}\")\n",
    "        if self.content:\n",
    "            print(f\"Content: {self.content}\")\n",
    "        else:\n",
    "            print(\"No content available.\")\n",
    "\n",
    "\n",
    "# Example usage\n",
    "email = Email(\"user@example.com\", \"recipient@example.com\", \"Test Email\")\n",
    "email.compose_email(\"This is a test email message.\")\n",
    "email.send_email()\n"
   ]
  },
  {
   "cell_type": "code",
   "execution_count": 8,
   "metadata": {},
   "outputs": [
    {
     "name": "stdout",
     "output_type": "stream",
     "text": [
      "Posts by JohnDoe:\n",
      "Post 1: Hello, this is my first post!\n",
      "Post 2: Excited to join this platform!\n",
      "Post 3: Today's weather is amazing.\n",
      "Post 4: Anyone up for a game night?\n",
      "Matching posts for 'game':\n",
      "Match 1: Anyone up for a game night?\n"
     ]
    }
   ],
   "source": [
    "#Problem 9: Social Media Profile Create a class representing a social media profile with attributes like username and posts. Implement methods to add posts, display posts, and search for posts by keyword.\n",
    "#This SocialMediaProfile class allows adding posts using add_post(), displaying all posts using display_posts(), and searching for posts containing a specific keyword using search_posts()\n",
    "\n",
    "\n",
    "\n",
    "class SocialMediaProfile:\n",
    "    def __init__(self, username):\n",
    "        self.username = username\n",
    "        self.posts = []\n",
    "\n",
    "    def add_post(self, post):\n",
    "        self.posts.append(post)\n",
    "\n",
    "    def display_posts(self):\n",
    "        print(f\"Posts by {self.username}:\")\n",
    "        for idx, post in enumerate(self.posts, start=1):\n",
    "            print(f\"Post {idx}: {post}\")\n",
    "\n",
    "    def search_posts(self, keyword):\n",
    "        matching_posts = [post for post in self.posts if keyword in post]\n",
    "        if matching_posts:\n",
    "            print(f\"Matching posts for '{keyword}':\")\n",
    "            for idx, post in enumerate(matching_posts, start=1):\n",
    "                print(f\"Match {idx}: {post}\")\n",
    "        else:\n",
    "            print(f\"No posts found containing '{keyword}'.\")\n",
    "\n",
    "\n",
    "# Example usage\n",
    "profile = SocialMediaProfile(\"JohnDoe\")\n",
    "profile.add_post(\"Hello, this is my first post!\")\n",
    "profile.add_post(\"Excited to join this platform!\")\n",
    "profile.add_post(\"Today's weather is amazing.\")\n",
    "profile.add_post(\"Anyone up for a game night?\")\n",
    "\n",
    "profile.display_posts()\n",
    "profile.search_posts(\"game\")\n"
   ]
  },
  {
   "cell_type": "code",
   "execution_count": 9,
   "metadata": {},
   "outputs": [
    {
     "name": "stdout",
     "output_type": "stream",
     "text": [
      "Pending tasks:\n",
      "1. Complete report - Due: 2023-12-01\n",
      "2. Buy groceries - Due: 2023-11-25\n",
      "3. Read a book - Due: 2023-12-05\n",
      "Pending tasks:\n",
      "1. Complete report - Due: 2023-12-01\n",
      "2. Read a book - Due: 2023-12-05\n"
     ]
    }
   ],
   "source": [
    "#Problem 10: ToDo List Create a class representing a ToDo list with attributes like tasks and due dates. Implement methods to add tasks, mark tasks as completed, and display pending tasks.\n",
    "#This ToDoList class allows adding tasks using add_task(), marking tasks as completed using mark_task_completed(), and displaying pending tasks using display_pending_tasks().\n",
    "\n",
    "\n",
    "class ToDoList:\n",
    "    def __init__(self):\n",
    "        self.tasks = {}\n",
    "\n",
    "    def add_task(self, task, due_date):\n",
    "        self.tasks[task] = {'due_date': due_date, 'completed': False}\n",
    "\n",
    "    def mark_task_completed(self, task):\n",
    "        if task in self.tasks:\n",
    "            self.tasks[task]['completed'] = True\n",
    "        else:\n",
    "            print(f\"No such task '{task}' found.\")\n",
    "\n",
    "    def display_pending_tasks(self):\n",
    "        pending_tasks = [task for task, details in self.tasks.items() if not details['completed']]\n",
    "        if pending_tasks:\n",
    "            print(\"Pending tasks:\")\n",
    "            for idx, task in enumerate(pending_tasks, start=1):\n",
    "                print(f\"{idx}. {task} - Due: {self.tasks[task]['due_date']}\")\n",
    "        else:\n",
    "            print(\"No pending tasks.\")\n",
    "\n",
    "# Example usage\n",
    "todo_list = ToDoList()\n",
    "todo_list.add_task(\"Complete report\", \"2023-12-01\")\n",
    "todo_list.add_task(\"Buy groceries\", \"2023-11-25\")\n",
    "todo_list.add_task(\"Read a book\", \"2023-12-05\")\n",
    "\n",
    "todo_list.display_pending_tasks()\n",
    "\n",
    "todo_list.mark_task_completed(\"Buy groceries\")\n",
    "todo_list.display_pending_tasks()\n"
   ]
  }
 ],
 "metadata": {
  "kernelspec": {
   "display_name": "Python 3",
   "language": "python",
   "name": "python3"
  },
  "language_info": {
   "codemirror_mode": {
    "name": "ipython",
    "version": 3
   },
   "file_extension": ".py",
   "mimetype": "text/x-python",
   "name": "python",
   "nbconvert_exporter": "python",
   "pygments_lexer": "ipython3",
   "version": "3.11.6"
  }
 },
 "nbformat": 4,
 "nbformat_minor": 2
}
